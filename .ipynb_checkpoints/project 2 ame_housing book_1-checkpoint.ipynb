{
 "cells": [
  {
   "cell_type": "markdown",
   "id": "79c55cf0",
   "metadata": {},
   "source": [
    "<img src=\"https://images.unsplash.com/photo-1549517045-bc93de075e53?ixid=MnwxMjA3fDB8MHxzZWFyY2h8MTh8fGhvdXNlfGVufDB8fDB8fA%3D%3D&ixlib=rb-1.2.1&w=1000&q=80\" style=\"float: left; margin: 20px; height: 55px\">\n"
   ]
  },
  {
   "cell_type": "markdown",
   "id": "5a428322",
   "metadata": {},
   "source": [
    "# Introduction"
   ]
  },
  {
   "cell_type": "markdown",
   "id": "286bb453",
   "metadata": {},
   "source": [
    "<font size = 3> I am part of the City of Ames Housing division under the mayor-council government. As part of our growing population mission; providing decent, safe, affordable housing while enchancing the quality of life for econmically challenged inviduals. <br><br>  As there are factors that contribute to the saleprice of houses, we will be exploring these factors through past dataset of house saleprices collated from 2006 to 2010. We believe that as we identify the more important features, we will be able to further aid economically challenged indviduals in choosing the best house and its respective features best suited for their needs <br><br> "
   ]
  },
  {
   "cell_type": "markdown",
   "id": "74a287a6",
   "metadata": {},
   "source": [
    "<font size = 4> **Problem statement**"
   ]
  },
  {
   "cell_type": "markdown",
   "id": "cb3a3982",
   "metadata": {},
   "source": [
    "<font size = 3>What are the features that strongly attributes to saleprice of houses?\n",
    "    \n",
    "<font size = 3>A model will be built to determine these features, the metrics that will be optimised and how these metrics will be used to measure success"
   ]
  },
  {
   "cell_type": "markdown",
   "id": "fc718e7e",
   "metadata": {},
   "source": [
    "# Imports"
   ]
  },
  {
   "cell_type": "code",
   "execution_count": 1,
   "id": "d0e516fa",
   "metadata": {},
   "outputs": [],
   "source": [
    "import math\n",
    "import numpy as np\n",
    "import pandas as pd\n",
    "import matplotlib.pyplot as plt\n",
    "import seaborn as sns\n",
    "%matplotlib inline\n",
    "\n",
    "\n",
    "from sklearn.preprocessing import StandardScaler, OneHotEncoder\n",
    "from sklearn.linear_model import LinearRegression, Ridge, RidgeCV, Lasso,LassoCV, ElasticNet, ElasticNetCV\n",
    "from sklearn import metrics\n",
    "from sklearn.model_selection import cross_val_score, train_test_split\n",
    "from sklearn.metrics import mean_squared_error"
   ]
  },
  {
   "cell_type": "markdown",
   "id": "07118018",
   "metadata": {},
   "source": [
    "<font size = 4> **Datasets used**"
   ]
  },
  {
   "cell_type": "markdown",
   "id": "18103515",
   "metadata": {},
   "source": [
    "* [`new_test.csv`](./datasets/new_test.csv): test dataset to be cleaned\n",
    "* [`train.csv`](./datasets/train.csv): train dataset to to be cleaned\n"
   ]
  },
  {
   "cell_type": "code",
   "execution_count": 2,
   "id": "edc998ed",
   "metadata": {},
   "outputs": [],
   "source": [
    "test = pd.read_csv('datasets/new_test.csv')\n",
    "train = pd.read_csv('datasets/train.csv')"
   ]
  },
  {
   "cell_type": "markdown",
   "id": "9b00a910",
   "metadata": {},
   "source": [
    "# Data cleaning and imputing"
   ]
  },
  {
   "cell_type": "markdown",
   "id": "14c311ec",
   "metadata": {},
   "source": [
    "Converting dataframe to all lowercase for Train and Test"
   ]
  },
  {
   "cell_type": "code",
   "execution_count": 3,
   "id": "9a71ba4b",
   "metadata": {},
   "outputs": [
    {
     "data": {
      "text/html": [
       "<div>\n",
       "<style scoped>\n",
       "    .dataframe tbody tr th:only-of-type {\n",
       "        vertical-align: middle;\n",
       "    }\n",
       "\n",
       "    .dataframe tbody tr th {\n",
       "        vertical-align: top;\n",
       "    }\n",
       "\n",
       "    .dataframe thead th {\n",
       "        text-align: right;\n",
       "    }\n",
       "</style>\n",
       "<table border=\"1\" class=\"dataframe\">\n",
       "  <thead>\n",
       "    <tr style=\"text-align: right;\">\n",
       "      <th></th>\n",
       "      <th>id</th>\n",
       "      <th>pid</th>\n",
       "      <th>ms_subclass</th>\n",
       "      <th>ms_zoning</th>\n",
       "      <th>lot_frontage</th>\n",
       "      <th>lot_area</th>\n",
       "      <th>street</th>\n",
       "      <th>alley</th>\n",
       "      <th>lot_shape</th>\n",
       "      <th>land_contour</th>\n",
       "      <th>...</th>\n",
       "      <th>screen_porch</th>\n",
       "      <th>pool_area</th>\n",
       "      <th>pool_qc</th>\n",
       "      <th>fence</th>\n",
       "      <th>misc_feature</th>\n",
       "      <th>misc_val</th>\n",
       "      <th>mo_sold</th>\n",
       "      <th>yr_sold</th>\n",
       "      <th>sale_type</th>\n",
       "      <th>saleprice</th>\n",
       "    </tr>\n",
       "  </thead>\n",
       "  <tbody>\n",
       "    <tr>\n",
       "      <th>0</th>\n",
       "      <td>109</td>\n",
       "      <td>533352170</td>\n",
       "      <td>60</td>\n",
       "      <td>RL</td>\n",
       "      <td>NaN</td>\n",
       "      <td>13517</td>\n",
       "      <td>Pave</td>\n",
       "      <td>NaN</td>\n",
       "      <td>IR1</td>\n",
       "      <td>Lvl</td>\n",
       "      <td>...</td>\n",
       "      <td>0</td>\n",
       "      <td>0</td>\n",
       "      <td>NaN</td>\n",
       "      <td>NaN</td>\n",
       "      <td>NaN</td>\n",
       "      <td>0</td>\n",
       "      <td>3</td>\n",
       "      <td>2010</td>\n",
       "      <td>WD</td>\n",
       "      <td>130500</td>\n",
       "    </tr>\n",
       "    <tr>\n",
       "      <th>1</th>\n",
       "      <td>544</td>\n",
       "      <td>531379050</td>\n",
       "      <td>60</td>\n",
       "      <td>RL</td>\n",
       "      <td>43.0</td>\n",
       "      <td>11492</td>\n",
       "      <td>Pave</td>\n",
       "      <td>NaN</td>\n",
       "      <td>IR1</td>\n",
       "      <td>Lvl</td>\n",
       "      <td>...</td>\n",
       "      <td>0</td>\n",
       "      <td>0</td>\n",
       "      <td>NaN</td>\n",
       "      <td>NaN</td>\n",
       "      <td>NaN</td>\n",
       "      <td>0</td>\n",
       "      <td>4</td>\n",
       "      <td>2009</td>\n",
       "      <td>WD</td>\n",
       "      <td>220000</td>\n",
       "    </tr>\n",
       "  </tbody>\n",
       "</table>\n",
       "<p>2 rows × 81 columns</p>\n",
       "</div>"
      ],
      "text/plain": [
       "    id        pid  ms_subclass ms_zoning  lot_frontage  lot_area street alley  \\\n",
       "0  109  533352170           60        RL           NaN     13517   Pave   NaN   \n",
       "1  544  531379050           60        RL          43.0     11492   Pave   NaN   \n",
       "\n",
       "  lot_shape land_contour  ... screen_porch pool_area pool_qc fence  \\\n",
       "0       IR1          Lvl  ...            0         0     NaN   NaN   \n",
       "1       IR1          Lvl  ...            0         0     NaN   NaN   \n",
       "\n",
       "  misc_feature misc_val mo_sold yr_sold  sale_type  saleprice  \n",
       "0          NaN        0       3    2010        WD      130500  \n",
       "1          NaN        0       4    2009        WD      220000  \n",
       "\n",
       "[2 rows x 81 columns]"
      ]
     },
     "execution_count": 3,
     "metadata": {},
     "output_type": "execute_result"
    }
   ],
   "source": [
    "train.columns = [c.lower().replace(' ', '_') for c in train.columns]\n",
    "train.head(2) #check if columns in train has been replaced "
   ]
  },
  {
   "cell_type": "code",
   "execution_count": 4,
   "id": "dafe6fb4",
   "metadata": {
    "scrolled": true
   },
   "outputs": [
    {
     "data": {
      "text/html": [
       "<div>\n",
       "<style scoped>\n",
       "    .dataframe tbody tr th:only-of-type {\n",
       "        vertical-align: middle;\n",
       "    }\n",
       "\n",
       "    .dataframe tbody tr th {\n",
       "        vertical-align: top;\n",
       "    }\n",
       "\n",
       "    .dataframe thead th {\n",
       "        text-align: right;\n",
       "    }\n",
       "</style>\n",
       "<table border=\"1\" class=\"dataframe\">\n",
       "  <thead>\n",
       "    <tr style=\"text-align: right;\">\n",
       "      <th></th>\n",
       "      <th>id</th>\n",
       "      <th>pid</th>\n",
       "      <th>ms_subclass</th>\n",
       "      <th>ms_zoning</th>\n",
       "      <th>lot_frontage</th>\n",
       "      <th>lot_area</th>\n",
       "      <th>street</th>\n",
       "      <th>alley</th>\n",
       "      <th>lot_shape</th>\n",
       "      <th>land_contour</th>\n",
       "      <th>...</th>\n",
       "      <th>3ssn_porch</th>\n",
       "      <th>screen_porch</th>\n",
       "      <th>pool_area</th>\n",
       "      <th>pool_qc</th>\n",
       "      <th>fence</th>\n",
       "      <th>misc_feature</th>\n",
       "      <th>misc_val</th>\n",
       "      <th>mo_sold</th>\n",
       "      <th>yr_sold</th>\n",
       "      <th>sale_type</th>\n",
       "    </tr>\n",
       "  </thead>\n",
       "  <tbody>\n",
       "    <tr>\n",
       "      <th>0</th>\n",
       "      <td>2658</td>\n",
       "      <td>902301120</td>\n",
       "      <td>190</td>\n",
       "      <td>RM</td>\n",
       "      <td>69.0</td>\n",
       "      <td>9142</td>\n",
       "      <td>Pave</td>\n",
       "      <td>Grvl</td>\n",
       "      <td>Reg</td>\n",
       "      <td>Lvl</td>\n",
       "      <td>...</td>\n",
       "      <td>0</td>\n",
       "      <td>0</td>\n",
       "      <td>0</td>\n",
       "      <td>NaN</td>\n",
       "      <td>NaN</td>\n",
       "      <td>NaN</td>\n",
       "      <td>0</td>\n",
       "      <td>4</td>\n",
       "      <td>2006</td>\n",
       "      <td>WD</td>\n",
       "    </tr>\n",
       "    <tr>\n",
       "      <th>1</th>\n",
       "      <td>2718</td>\n",
       "      <td>905108090</td>\n",
       "      <td>90</td>\n",
       "      <td>RL</td>\n",
       "      <td>NaN</td>\n",
       "      <td>9662</td>\n",
       "      <td>Pave</td>\n",
       "      <td>NaN</td>\n",
       "      <td>IR1</td>\n",
       "      <td>Lvl</td>\n",
       "      <td>...</td>\n",
       "      <td>0</td>\n",
       "      <td>0</td>\n",
       "      <td>0</td>\n",
       "      <td>NaN</td>\n",
       "      <td>NaN</td>\n",
       "      <td>NaN</td>\n",
       "      <td>0</td>\n",
       "      <td>8</td>\n",
       "      <td>2006</td>\n",
       "      <td>WD</td>\n",
       "    </tr>\n",
       "  </tbody>\n",
       "</table>\n",
       "<p>2 rows × 80 columns</p>\n",
       "</div>"
      ],
      "text/plain": [
       "     id        pid  ms_subclass ms_zoning  lot_frontage  lot_area street  \\\n",
       "0  2658  902301120          190        RM          69.0      9142   Pave   \n",
       "1  2718  905108090           90        RL           NaN      9662   Pave   \n",
       "\n",
       "  alley lot_shape land_contour  ... 3ssn_porch screen_porch pool_area pool_qc  \\\n",
       "0  Grvl       Reg          Lvl  ...          0            0         0     NaN   \n",
       "1   NaN       IR1          Lvl  ...          0            0         0     NaN   \n",
       "\n",
       "  fence misc_feature misc_val mo_sold  yr_sold  sale_type  \n",
       "0   NaN          NaN        0       4     2006        WD   \n",
       "1   NaN          NaN        0       8     2006        WD   \n",
       "\n",
       "[2 rows x 80 columns]"
      ]
     },
     "execution_count": 4,
     "metadata": {},
     "output_type": "execute_result"
    }
   ],
   "source": [
    "test.columns = [c.lower().replace(' ', '_') for c in test.columns]\n",
    "test.head(2) #check if columns in test has been replaced "
   ]
  },
  {
   "cell_type": "markdown",
   "id": "2572bae5",
   "metadata": {},
   "source": [
    "## datatype check"
   ]
  },
  {
   "cell_type": "markdown",
   "id": "685eece0",
   "metadata": {},
   "source": [
    "check for train datatype"
   ]
  },
  {
   "cell_type": "code",
   "execution_count": 5,
   "id": "fc19599f",
   "metadata": {},
   "outputs": [
    {
     "name": "stdout",
     "output_type": "stream",
     "text": [
      "<class 'pandas.core.frame.DataFrame'>\n",
      "RangeIndex: 2051 entries, 0 to 2050\n",
      "Data columns (total 81 columns):\n",
      " #   Column           Non-Null Count  Dtype  \n",
      "---  ------           --------------  -----  \n",
      " 0   id               2051 non-null   int64  \n",
      " 1   pid              2051 non-null   int64  \n",
      " 2   ms_subclass      2051 non-null   int64  \n",
      " 3   ms_zoning        2051 non-null   object \n",
      " 4   lot_frontage     1721 non-null   float64\n",
      " 5   lot_area         2051 non-null   int64  \n",
      " 6   street           2051 non-null   object \n",
      " 7   alley            140 non-null    object \n",
      " 8   lot_shape        2051 non-null   object \n",
      " 9   land_contour     2051 non-null   object \n",
      " 10  utilities        2051 non-null   object \n",
      " 11  lot_config       2051 non-null   object \n",
      " 12  land_slope       2051 non-null   object \n",
      " 13  neighborhood     2051 non-null   object \n",
      " 14  condition_1      2051 non-null   object \n",
      " 15  condition_2      2051 non-null   object \n",
      " 16  bldg_type        2051 non-null   object \n",
      " 17  house_style      2051 non-null   object \n",
      " 18  overall_qual     2051 non-null   int64  \n",
      " 19  overall_cond     2051 non-null   int64  \n",
      " 20  year_built       2051 non-null   int64  \n",
      " 21  year_remod/add   2051 non-null   int64  \n",
      " 22  roof_style       2051 non-null   object \n",
      " 23  roof_matl        2051 non-null   object \n",
      " 24  exterior_1st     2051 non-null   object \n",
      " 25  exterior_2nd     2051 non-null   object \n",
      " 26  mas_vnr_type     2029 non-null   object \n",
      " 27  mas_vnr_area     2029 non-null   float64\n",
      " 28  exter_qual       2051 non-null   object \n",
      " 29  exter_cond       2051 non-null   object \n",
      " 30  foundation       2051 non-null   object \n",
      " 31  bsmt_qual        1996 non-null   object \n",
      " 32  bsmt_cond        1996 non-null   object \n",
      " 33  bsmt_exposure    1993 non-null   object \n",
      " 34  bsmtfin_type_1   1996 non-null   object \n",
      " 35  bsmtfin_sf_1     2050 non-null   float64\n",
      " 36  bsmtfin_type_2   1995 non-null   object \n",
      " 37  bsmtfin_sf_2     2050 non-null   float64\n",
      " 38  bsmt_unf_sf      2050 non-null   float64\n",
      " 39  total_bsmt_sf    2050 non-null   float64\n",
      " 40  heating          2051 non-null   object \n",
      " 41  heating_qc       2051 non-null   object \n",
      " 42  central_air      2051 non-null   object \n",
      " 43  electrical       2051 non-null   object \n",
      " 44  1st_flr_sf       2051 non-null   int64  \n",
      " 45  2nd_flr_sf       2051 non-null   int64  \n",
      " 46  low_qual_fin_sf  2051 non-null   int64  \n",
      " 47  gr_liv_area      2051 non-null   int64  \n",
      " 48  bsmt_full_bath   2049 non-null   float64\n",
      " 49  bsmt_half_bath   2049 non-null   float64\n",
      " 50  full_bath        2051 non-null   int64  \n",
      " 51  half_bath        2051 non-null   int64  \n",
      " 52  bedroom_abvgr    2051 non-null   int64  \n",
      " 53  kitchen_abvgr    2051 non-null   int64  \n",
      " 54  kitchen_qual     2051 non-null   object \n",
      " 55  totrms_abvgrd    2051 non-null   int64  \n",
      " 56  functional       2051 non-null   object \n",
      " 57  fireplaces       2051 non-null   int64  \n",
      " 58  fireplace_qu     1051 non-null   object \n",
      " 59  garage_type      1938 non-null   object \n",
      " 60  garage_yr_blt    1937 non-null   float64\n",
      " 61  garage_finish    1937 non-null   object \n",
      " 62  garage_cars      2050 non-null   float64\n",
      " 63  garage_area      2050 non-null   float64\n",
      " 64  garage_qual      1937 non-null   object \n",
      " 65  garage_cond      1937 non-null   object \n",
      " 66  paved_drive      2051 non-null   object \n",
      " 67  wood_deck_sf     2051 non-null   int64  \n",
      " 68  open_porch_sf    2051 non-null   int64  \n",
      " 69  enclosed_porch   2051 non-null   int64  \n",
      " 70  3ssn_porch       2051 non-null   int64  \n",
      " 71  screen_porch     2051 non-null   int64  \n",
      " 72  pool_area        2051 non-null   int64  \n",
      " 73  pool_qc          9 non-null      object \n",
      " 74  fence            400 non-null    object \n",
      " 75  misc_feature     65 non-null     object \n",
      " 76  misc_val         2051 non-null   int64  \n",
      " 77  mo_sold          2051 non-null   int64  \n",
      " 78  yr_sold          2051 non-null   int64  \n",
      " 79  sale_type        2051 non-null   object \n",
      " 80  saleprice        2051 non-null   int64  \n",
      "dtypes: float64(11), int64(28), object(42)\n",
      "memory usage: 1.3+ MB\n"
     ]
    }
   ],
   "source": [
    "train.info(verbose=True)"
   ]
  },
  {
   "cell_type": "markdown",
   "id": "3e4b08a4",
   "metadata": {},
   "source": [
    "converting train datatype to float"
   ]
  },
  {
   "cell_type": "code",
   "execution_count": 6,
   "id": "3e98de78",
   "metadata": {},
   "outputs": [],
   "source": [
    "train['garage_yr_blt'] = train['garage_yr_blt'].map(lambda x: float(x))"
   ]
  },
  {
   "cell_type": "code",
   "execution_count": 7,
   "id": "6e36c02f",
   "metadata": {},
   "outputs": [
    {
     "data": {
      "text/plain": [
       "dtype('float64')"
      ]
     },
     "execution_count": 7,
     "metadata": {},
     "output_type": "execute_result"
    }
   ],
   "source": [
    "train['garage_yr_blt'].dtype"
   ]
  },
  {
   "cell_type": "markdown",
   "id": "698715cf",
   "metadata": {},
   "source": [
    "check for test datatype"
   ]
  },
  {
   "cell_type": "code",
   "execution_count": 8,
   "id": "d5646f80",
   "metadata": {},
   "outputs": [
    {
     "name": "stdout",
     "output_type": "stream",
     "text": [
      "<class 'pandas.core.frame.DataFrame'>\n",
      "RangeIndex: 879 entries, 0 to 878\n",
      "Data columns (total 80 columns):\n",
      " #   Column           Non-Null Count  Dtype  \n",
      "---  ------           --------------  -----  \n",
      " 0   id               879 non-null    int64  \n",
      " 1   pid              879 non-null    int64  \n",
      " 2   ms_subclass      879 non-null    int64  \n",
      " 3   ms_zoning        879 non-null    object \n",
      " 4   lot_frontage     719 non-null    float64\n",
      " 5   lot_area         879 non-null    int64  \n",
      " 6   street           879 non-null    object \n",
      " 7   alley            58 non-null     object \n",
      " 8   lot_shape        879 non-null    object \n",
      " 9   land_contour     879 non-null    object \n",
      " 10  utilities        879 non-null    object \n",
      " 11  lot_config       879 non-null    object \n",
      " 12  land_slope       879 non-null    object \n",
      " 13  neighborhood     879 non-null    object \n",
      " 14  condition_1      879 non-null    object \n",
      " 15  condition_2      879 non-null    object \n",
      " 16  bldg_type        879 non-null    object \n",
      " 17  house_style      879 non-null    object \n",
      " 18  overall_qual     879 non-null    int64  \n",
      " 19  overall_cond     879 non-null    int64  \n",
      " 20  year_built       879 non-null    int64  \n",
      " 21  year_remod/add   879 non-null    int64  \n",
      " 22  roof_style       879 non-null    object \n",
      " 23  roof_matl        879 non-null    object \n",
      " 24  exterior_1st     879 non-null    object \n",
      " 25  exterior_2nd     879 non-null    object \n",
      " 26  mas_vnr_type     878 non-null    object \n",
      " 27  mas_vnr_area     878 non-null    float64\n",
      " 28  exter_qual       879 non-null    object \n",
      " 29  exter_cond       879 non-null    object \n",
      " 30  foundation       879 non-null    object \n",
      " 31  bsmt_qual        854 non-null    object \n",
      " 32  bsmt_cond        854 non-null    object \n",
      " 33  bsmt_exposure    854 non-null    object \n",
      " 34  bsmtfin_type_1   854 non-null    object \n",
      " 35  bsmtfin_sf_1     879 non-null    int64  \n",
      " 36  bsmtfin_type_2   854 non-null    object \n",
      " 37  bsmtfin_sf_2     879 non-null    int64  \n",
      " 38  bsmt_unf_sf      879 non-null    int64  \n",
      " 39  total_bsmt_sf    879 non-null    int64  \n",
      " 40  heating          879 non-null    object \n",
      " 41  heating_qc       879 non-null    object \n",
      " 42  central_air      879 non-null    object \n",
      " 43  electrical       878 non-null    object \n",
      " 44  1st_flr_sf       879 non-null    int64  \n",
      " 45  2nd_flr_sf       879 non-null    int64  \n",
      " 46  low_qual_fin_sf  879 non-null    int64  \n",
      " 47  gr_liv_area      879 non-null    int64  \n",
      " 48  bsmt_full_bath   879 non-null    int64  \n",
      " 49  bsmt_half_bath   879 non-null    int64  \n",
      " 50  full_bath        879 non-null    int64  \n",
      " 51  half_bath        879 non-null    int64  \n",
      " 52  bedroom_abvgr    879 non-null    int64  \n",
      " 53  kitchen_abvgr    879 non-null    int64  \n",
      " 54  kitchen_qual     879 non-null    object \n",
      " 55  totrms_abvgrd    879 non-null    int64  \n",
      " 56  functional       879 non-null    object \n",
      " 57  fireplaces       879 non-null    int64  \n",
      " 58  fireplace_qu     457 non-null    object \n",
      " 59  garage_type      835 non-null    object \n",
      " 60  garage_yr_blt    834 non-null    float64\n",
      " 61  garage_finish    834 non-null    object \n",
      " 62  garage_cars      879 non-null    int64  \n",
      " 63  garage_area      879 non-null    int64  \n",
      " 64  garage_qual      834 non-null    object \n",
      " 65  garage_cond      834 non-null    object \n",
      " 66  paved_drive      879 non-null    object \n",
      " 67  wood_deck_sf     879 non-null    int64  \n",
      " 68  open_porch_sf    879 non-null    int64  \n",
      " 69  enclosed_porch   879 non-null    int64  \n",
      " 70  3ssn_porch       879 non-null    int64  \n",
      " 71  screen_porch     879 non-null    int64  \n",
      " 72  pool_area        879 non-null    int64  \n",
      " 73  pool_qc          4 non-null      object \n",
      " 74  fence            172 non-null    object \n",
      " 75  misc_feature     41 non-null     object \n",
      " 76  misc_val         879 non-null    int64  \n",
      " 77  mo_sold          879 non-null    int64  \n",
      " 78  yr_sold          879 non-null    int64  \n",
      " 79  sale_type        879 non-null    object \n",
      "dtypes: float64(3), int64(35), object(42)\n",
      "memory usage: 549.5+ KB\n"
     ]
    }
   ],
   "source": [
    "test.info(verbose=True)"
   ]
  },
  {
   "cell_type": "markdown",
   "id": "6d26847c",
   "metadata": {},
   "source": [
    "## Removal of columns not affecting saleprice in test and train"
   ]
  },
  {
   "cell_type": "markdown",
   "id": "25d6eb26",
   "metadata": {},
   "source": [
    "Check columns for Train"
   ]
  },
  {
   "cell_type": "code",
   "execution_count": 9,
   "id": "4e76a585",
   "metadata": {},
   "outputs": [
    {
     "data": {
      "text/plain": [
       "81"
      ]
     },
     "execution_count": 9,
     "metadata": {},
     "output_type": "execute_result"
    }
   ],
   "source": [
    "len(train.columns)"
   ]
  },
  {
   "cell_type": "code",
   "execution_count": 10,
   "id": "82f0589c",
   "metadata": {},
   "outputs": [
    {
     "data": {
      "text/plain": [
       "Index(['id', 'pid', 'ms_subclass', 'ms_zoning', 'lot_frontage', 'lot_area',\n",
       "       'street', 'alley', 'lot_shape', 'land_contour', 'utilities',\n",
       "       'lot_config', 'land_slope', 'neighborhood', 'condition_1',\n",
       "       'condition_2', 'bldg_type', 'house_style', 'overall_qual',\n",
       "       'overall_cond', 'year_built', 'year_remod/add', 'roof_style',\n",
       "       'roof_matl', 'exterior_1st', 'exterior_2nd', 'mas_vnr_type',\n",
       "       'mas_vnr_area', 'exter_qual', 'exter_cond', 'foundation', 'bsmt_qual',\n",
       "       'bsmt_cond', 'bsmt_exposure', 'bsmtfin_type_1', 'bsmtfin_sf_1',\n",
       "       'bsmtfin_type_2', 'bsmtfin_sf_2', 'bsmt_unf_sf', 'total_bsmt_sf',\n",
       "       'heating', 'heating_qc', 'central_air', 'electrical', '1st_flr_sf',\n",
       "       '2nd_flr_sf', 'low_qual_fin_sf', 'gr_liv_area', 'bsmt_full_bath',\n",
       "       'bsmt_half_bath', 'full_bath', 'half_bath', 'bedroom_abvgr',\n",
       "       'kitchen_abvgr', 'kitchen_qual', 'totrms_abvgrd', 'functional',\n",
       "       'fireplaces', 'fireplace_qu', 'garage_type', 'garage_yr_blt',\n",
       "       'garage_finish', 'garage_cars', 'garage_area', 'garage_qual',\n",
       "       'garage_cond', 'paved_drive', 'wood_deck_sf', 'open_porch_sf',\n",
       "       'enclosed_porch', '3ssn_porch', 'screen_porch', 'pool_area', 'pool_qc',\n",
       "       'fence', 'misc_feature', 'misc_val', 'mo_sold', 'yr_sold', 'sale_type',\n",
       "       'saleprice'],\n",
       "      dtype='object')"
      ]
     },
     "execution_count": 10,
     "metadata": {},
     "output_type": "execute_result"
    }
   ],
   "source": [
    "train.columns"
   ]
  },
  {
   "cell_type": "markdown",
   "id": "491b2935",
   "metadata": {},
   "source": [
    "Check columns for Test"
   ]
  },
  {
   "cell_type": "code",
   "execution_count": 11,
   "id": "37d73d0c",
   "metadata": {},
   "outputs": [
    {
     "data": {
      "text/plain": [
       "80"
      ]
     },
     "execution_count": 11,
     "metadata": {},
     "output_type": "execute_result"
    }
   ],
   "source": [
    "len(test.columns)"
   ]
  },
  {
   "cell_type": "code",
   "execution_count": 12,
   "id": "63363f43",
   "metadata": {},
   "outputs": [
    {
     "data": {
      "text/plain": [
       "Index(['id', 'pid', 'ms_subclass', 'ms_zoning', 'lot_frontage', 'lot_area',\n",
       "       'street', 'alley', 'lot_shape', 'land_contour', 'utilities',\n",
       "       'lot_config', 'land_slope', 'neighborhood', 'condition_1',\n",
       "       'condition_2', 'bldg_type', 'house_style', 'overall_qual',\n",
       "       'overall_cond', 'year_built', 'year_remod/add', 'roof_style',\n",
       "       'roof_matl', 'exterior_1st', 'exterior_2nd', 'mas_vnr_type',\n",
       "       'mas_vnr_area', 'exter_qual', 'exter_cond', 'foundation', 'bsmt_qual',\n",
       "       'bsmt_cond', 'bsmt_exposure', 'bsmtfin_type_1', 'bsmtfin_sf_1',\n",
       "       'bsmtfin_type_2', 'bsmtfin_sf_2', 'bsmt_unf_sf', 'total_bsmt_sf',\n",
       "       'heating', 'heating_qc', 'central_air', 'electrical', '1st_flr_sf',\n",
       "       '2nd_flr_sf', 'low_qual_fin_sf', 'gr_liv_area', 'bsmt_full_bath',\n",
       "       'bsmt_half_bath', 'full_bath', 'half_bath', 'bedroom_abvgr',\n",
       "       'kitchen_abvgr', 'kitchen_qual', 'totrms_abvgrd', 'functional',\n",
       "       'fireplaces', 'fireplace_qu', 'garage_type', 'garage_yr_blt',\n",
       "       'garage_finish', 'garage_cars', 'garage_area', 'garage_qual',\n",
       "       'garage_cond', 'paved_drive', 'wood_deck_sf', 'open_porch_sf',\n",
       "       'enclosed_porch', '3ssn_porch', 'screen_porch', 'pool_area', 'pool_qc',\n",
       "       'fence', 'misc_feature', 'misc_val', 'mo_sold', 'yr_sold', 'sale_type'],\n",
       "      dtype='object')"
      ]
     },
     "execution_count": 12,
     "metadata": {},
     "output_type": "execute_result"
    }
   ],
   "source": [
    "test.columns"
   ]
  },
  {
   "cell_type": "markdown",
   "id": "e5683a89",
   "metadata": {},
   "source": [
    "Check if id is repeated in test and train"
   ]
  },
  {
   "cell_type": "code",
   "execution_count": 13,
   "id": "26e00865",
   "metadata": {},
   "outputs": [
    {
     "data": {
      "text/plain": [
       "False    2051\n",
       "Name: id, dtype: int64"
      ]
     },
     "execution_count": 13,
     "metadata": {},
     "output_type": "execute_result"
    }
   ],
   "source": [
    "train['id'].isin(test['id']).value_counts()"
   ]
  },
  {
   "cell_type": "code",
   "execution_count": 14,
   "id": "c2bd66ca",
   "metadata": {},
   "outputs": [
    {
     "data": {
      "text/plain": [
       "False    2051\n",
       "Name: pid, dtype: int64"
      ]
     },
     "execution_count": 14,
     "metadata": {},
     "output_type": "execute_result"
    }
   ],
   "source": [
    "train['pid'].isin(test['pid']).value_counts()"
   ]
  },
  {
   "cell_type": "markdown",
   "id": "6998381c",
   "metadata": {},
   "source": [
    "Both columns; PID and ID, are identification numbers and are not repeated in both trainset and will be dropped.\n",
    "Sale Type column will also be dropped due to it being a feature acquired after sale.\n",
    "\n",
    "Drop for train"
   ]
  },
  {
   "cell_type": "code",
   "execution_count": 15,
   "id": "13cd26b3",
   "metadata": {},
   "outputs": [],
   "source": [
    "train.drop(columns =['id', 'pid', 'sale_type'], inplace=True)"
   ]
  },
  {
   "cell_type": "markdown",
   "id": "93654ea6",
   "metadata": {},
   "source": [
    "Check for number of columns left"
   ]
  },
  {
   "cell_type": "code",
   "execution_count": 16,
   "id": "b7acfd14",
   "metadata": {},
   "outputs": [
    {
     "data": {
      "text/plain": [
       "78"
      ]
     },
     "execution_count": 16,
     "metadata": {},
     "output_type": "execute_result"
    }
   ],
   "source": [
    "len(train.columns)"
   ]
  },
  {
   "cell_type": "markdown",
   "id": "e1cff5c8",
   "metadata": {},
   "source": [
    "Drop for test"
   ]
  },
  {
   "cell_type": "code",
   "execution_count": 17,
   "id": "c28ae786",
   "metadata": {},
   "outputs": [],
   "source": [
    "test.drop(columns = ['id', 'pid'], inplace=True)"
   ]
  },
  {
   "cell_type": "markdown",
   "id": "260c5d6c",
   "metadata": {},
   "source": [
    "Check for number of columns left in test"
   ]
  },
  {
   "cell_type": "code",
   "execution_count": 18,
   "id": "425f85aa",
   "metadata": {},
   "outputs": [
    {
     "data": {
      "text/plain": [
       "78"
      ]
     },
     "execution_count": 18,
     "metadata": {},
     "output_type": "execute_result"
    }
   ],
   "source": [
    "len(train.columns)"
   ]
  },
  {
   "cell_type": "markdown",
   "id": "b2011c9d",
   "metadata": {},
   "source": [
    "## Null value(s) check and imputing for train dataset and test correspondingly"
   ]
  },
  {
   "cell_type": "code",
   "execution_count": 19,
   "id": "f3d8ad2f",
   "metadata": {},
   "outputs": [
    {
     "data": {
      "text/plain": [
       "pool_qc           2042\n",
       "misc_feature      1986\n",
       "alley             1911\n",
       "fence             1651\n",
       "fireplace_qu      1000\n",
       "lot_frontage       330\n",
       "garage_yr_blt      114\n",
       "garage_cond        114\n",
       "garage_qual        114\n",
       "garage_finish      114\n",
       "garage_type        113\n",
       "bsmt_exposure       58\n",
       "bsmtfin_type_2      56\n",
       "bsmt_cond           55\n",
       "bsmt_qual           55\n",
       "bsmtfin_type_1      55\n",
       "mas_vnr_area        22\n",
       "mas_vnr_type        22\n",
       "bsmt_half_bath       2\n",
       "bsmt_full_bath       2\n",
       "total_bsmt_sf        1\n",
       "bsmt_unf_sf          1\n",
       "bsmtfin_sf_2         1\n",
       "garage_cars          1\n",
       "garage_area          1\n",
       "bsmtfin_sf_1         1\n",
       "dtype: int64"
      ]
     },
     "execution_count": 19,
     "metadata": {},
     "output_type": "execute_result"
    }
   ],
   "source": [
    "train[train.columns[train.isnull().any()]].isnull().sum().sort_values(ascending=False)"
   ]
  },
  {
   "cell_type": "markdown",
   "id": "6fe404db",
   "metadata": {},
   "source": [
    "### pool_qc "
   ]
  },
  {
   "cell_type": "markdown",
   "id": "d6cbeece",
   "metadata": {},
   "source": [
    "There are 2 columns related to pool, pool_area and pool_qc<br>\n",
    "pool_qc can only be NA = No Pool, when pool_area is 0(indicator no pool)"
   ]
  },
  {
   "cell_type": "code",
   "execution_count": 20,
   "id": "faa33747",
   "metadata": {},
   "outputs": [
    {
     "data": {
      "text/html": [
       "<div>\n",
       "<style scoped>\n",
       "    .dataframe tbody tr th:only-of-type {\n",
       "        vertical-align: middle;\n",
       "    }\n",
       "\n",
       "    .dataframe tbody tr th {\n",
       "        vertical-align: top;\n",
       "    }\n",
       "\n",
       "    .dataframe thead th {\n",
       "        text-align: right;\n",
       "    }\n",
       "</style>\n",
       "<table border=\"1\" class=\"dataframe\">\n",
       "  <thead>\n",
       "    <tr style=\"text-align: right;\">\n",
       "      <th></th>\n",
       "      <th>pool_area</th>\n",
       "      <th>pool_qc</th>\n",
       "    </tr>\n",
       "  </thead>\n",
       "  <tbody>\n",
       "  </tbody>\n",
       "</table>\n",
       "</div>"
      ],
      "text/plain": [
       "Empty DataFrame\n",
       "Columns: [pool_area, pool_qc]\n",
       "Index: []"
      ]
     },
     "execution_count": 20,
     "metadata": {},
     "output_type": "execute_result"
    }
   ],
   "source": [
    "train.loc[(train['pool_area']>0) & (train['pool_qc'].isnull()), ['pool_area', 'pool_qc']]\n",
    "#check for columns where pool_qc is nan for pool_area is more than 0"
   ]
  },
  {
   "cell_type": "markdown",
   "id": "d592b0d3",
   "metadata": {},
   "source": [
    "Since all pool_qc NAN values are rows where pool area is zero, we can assign all nan values to be NA(no pool)"
   ]
  },
  {
   "cell_type": "code",
   "execution_count": 21,
   "id": "417c44fa",
   "metadata": {},
   "outputs": [],
   "source": [
    "train['pool_qc'].fillna(value = 'NA', inplace = True)"
   ]
  },
  {
   "cell_type": "code",
   "execution_count": 22,
   "id": "9cb34704",
   "metadata": {},
   "outputs": [],
   "source": [
    "test['pool_qc'].fillna(value = 'NA', inplace = True)"
   ]
  },
  {
   "cell_type": "markdown",
   "id": "3682cd9b",
   "metadata": {},
   "source": [
    "### misc_feature"
   ]
  },
  {
   "cell_type": "markdown",
   "id": "0da9f01a",
   "metadata": {},
   "source": [
    "misc feature has relation to misc_val,if misc_val is not 0, musc_feature null values cannot be NA(none).<br>\n"
   ]
  },
  {
   "cell_type": "code",
   "execution_count": 23,
   "id": "fe601cec",
   "metadata": {},
   "outputs": [
    {
     "data": {
      "text/html": [
       "<div>\n",
       "<style scoped>\n",
       "    .dataframe tbody tr th:only-of-type {\n",
       "        vertical-align: middle;\n",
       "    }\n",
       "\n",
       "    .dataframe tbody tr th {\n",
       "        vertical-align: top;\n",
       "    }\n",
       "\n",
       "    .dataframe thead th {\n",
       "        text-align: right;\n",
       "    }\n",
       "</style>\n",
       "<table border=\"1\" class=\"dataframe\">\n",
       "  <thead>\n",
       "    <tr style=\"text-align: right;\">\n",
       "      <th></th>\n",
       "      <th>misc_feature</th>\n",
       "      <th>misc_val</th>\n",
       "    </tr>\n",
       "  </thead>\n",
       "  <tbody>\n",
       "  </tbody>\n",
       "</table>\n",
       "</div>"
      ],
      "text/plain": [
       "Empty DataFrame\n",
       "Columns: [misc_feature, misc_val]\n",
       "Index: []"
      ]
     },
     "execution_count": 23,
     "metadata": {},
     "output_type": "execute_result"
    }
   ],
   "source": [
    "train.loc[(train['misc_feature'].isnull())&(train['misc_val']!=0),['misc_feature', 'misc_val']]"
   ]
  },
  {
   "cell_type": "markdown",
   "id": "fd10fb2c",
   "metadata": {},
   "source": [
    "Since all null values of misc_feature is under misc_val value of 0, all nan values of misc_feature will be replaced by 'NA'"
   ]
  },
  {
   "cell_type": "code",
   "execution_count": 24,
   "id": "32320cdd",
   "metadata": {},
   "outputs": [],
   "source": [
    "train['misc_feature'].fillna(value = 'NA', inplace = True)"
   ]
  },
  {
   "cell_type": "code",
   "execution_count": 25,
   "id": "7d3192bb",
   "metadata": {},
   "outputs": [],
   "source": [
    "test['misc_feature'].fillna(value = 'NA', inplace = True)"
   ]
  },
  {
   "cell_type": "markdown",
   "id": "aa58f064",
   "metadata": {},
   "source": [
    "### alley"
   ]
  },
  {
   "cell_type": "markdown",
   "id": "136bd89d",
   "metadata": {},
   "source": [
    "There is no deciding feature that determines the type of alley access to property, all values will be replaced as NA(no alley access)"
   ]
  },
  {
   "cell_type": "code",
   "execution_count": 26,
   "id": "b06ddea0",
   "metadata": {},
   "outputs": [],
   "source": [
    "train['alley'].fillna(value = 'NA', inplace=True)"
   ]
  },
  {
   "cell_type": "code",
   "execution_count": 27,
   "id": "130d4880",
   "metadata": {},
   "outputs": [],
   "source": [
    "test['alley'].fillna(value = 'NA', inplace=True)"
   ]
  },
  {
   "cell_type": "code",
   "execution_count": 28,
   "id": "b2261a12",
   "metadata": {},
   "outputs": [
    {
     "data": {
      "text/plain": [
       "array(['NA', 'Pave', 'Grvl'], dtype=object)"
      ]
     },
     "execution_count": 28,
     "metadata": {},
     "output_type": "execute_result"
    }
   ],
   "source": [
    "train['alley'].unique()"
   ]
  },
  {
   "cell_type": "markdown",
   "id": "e71c6ad9",
   "metadata": {},
   "source": [
    "There is no deciding feature that determines the type of fence, all values will be replaced as NA(no fence)"
   ]
  },
  {
   "cell_type": "code",
   "execution_count": 29,
   "id": "72513eff",
   "metadata": {},
   "outputs": [],
   "source": [
    "train['fence'].fillna(value = 'NA', inplace = True)"
   ]
  },
  {
   "cell_type": "code",
   "execution_count": 30,
   "id": "1d485b62",
   "metadata": {},
   "outputs": [],
   "source": [
    "test['fence'].fillna(value = 'NA', inplace = True)"
   ]
  },
  {
   "cell_type": "markdown",
   "id": "fcebfee8",
   "metadata": {},
   "source": [
    "### fireplace_qu"
   ]
  },
  {
   "cell_type": "markdown",
   "id": "f3520ad4",
   "metadata": {},
   "source": [
    "fireplace_qu is related to fireplaces, fireplace_qu cannot be null if number of fireplaces > 0 <br>\n",
    "check which fireplace_qu rowis null, when fireplaces is more than 0"
   ]
  },
  {
   "cell_type": "code",
   "execution_count": 31,
   "id": "83570bd2",
   "metadata": {},
   "outputs": [
    {
     "data": {
      "text/html": [
       "<div>\n",
       "<style scoped>\n",
       "    .dataframe tbody tr th:only-of-type {\n",
       "        vertical-align: middle;\n",
       "    }\n",
       "\n",
       "    .dataframe tbody tr th {\n",
       "        vertical-align: top;\n",
       "    }\n",
       "\n",
       "    .dataframe thead th {\n",
       "        text-align: right;\n",
       "    }\n",
       "</style>\n",
       "<table border=\"1\" class=\"dataframe\">\n",
       "  <thead>\n",
       "    <tr style=\"text-align: right;\">\n",
       "      <th></th>\n",
       "      <th>fireplaces</th>\n",
       "      <th>fireplace_qu</th>\n",
       "    </tr>\n",
       "  </thead>\n",
       "  <tbody>\n",
       "  </tbody>\n",
       "</table>\n",
       "</div>"
      ],
      "text/plain": [
       "Empty DataFrame\n",
       "Columns: [fireplaces, fireplace_qu]\n",
       "Index: []"
      ]
     },
     "execution_count": 31,
     "metadata": {},
     "output_type": "execute_result"
    }
   ],
   "source": [
    "train.loc[(train['fireplaces']>0\n",
    "           ) & (train['fireplace_qu'].isnull()), ['fireplaces', 'fireplace_qu']]"
   ]
  },
  {
   "cell_type": "markdown",
   "id": "498d5a68",
   "metadata": {},
   "source": [
    "since there is no row with fireplace_qu null values, when fireplaces is more than 0<br>\n",
    "all fireplace_qu null values will be replaced as no fireplace"
   ]
  },
  {
   "cell_type": "code",
   "execution_count": 32,
   "id": "982c0d1d",
   "metadata": {},
   "outputs": [],
   "source": [
    "train['fireplace_qu'].fillna(value = 'NA', inplace=True)"
   ]
  },
  {
   "cell_type": "code",
   "execution_count": 33,
   "id": "8eb79033",
   "metadata": {},
   "outputs": [],
   "source": [
    "test['fireplace_qu'].fillna(value = 'NA', inplace=True)"
   ]
  },
  {
   "cell_type": "markdown",
   "id": "43bf50ea",
   "metadata": {},
   "source": [
    "### lot_frontage"
   ]
  },
  {
   "cell_type": "markdown",
   "id": "5f67a4f1",
   "metadata": {},
   "source": [
    "finding lot shape of all respective null values"
   ]
  },
  {
   "cell_type": "code",
   "execution_count": 34,
   "id": "edcee9c5",
   "metadata": {},
   "outputs": [
    {
     "data": {
      "text/plain": [
       "array(['IR1', 'Reg', 'IR2', 'IR3'], dtype=object)"
      ]
     },
     "execution_count": 34,
     "metadata": {},
     "output_type": "execute_result"
    }
   ],
   "source": [
    "train.loc[train['lot_frontage'].isnull()==True,'lot_shape'].unique()"
   ]
  },
  {
   "cell_type": "markdown",
   "id": "f57c683a",
   "metadata": {},
   "source": [
    "#### Check relationship of lot_area to lot_frontage, for the same lot_shape.\n",
    "#### and apply respective porportionality if present"
   ]
  },
  {
   "cell_type": "markdown",
   "id": "0927dc49",
   "metadata": {},
   "source": [
    "##### lot_shape = Reg"
   ]
  },
  {
   "cell_type": "code",
   "execution_count": 35,
   "id": "96062cd5",
   "metadata": {
    "scrolled": true
   },
   "outputs": [
    {
     "data": {
      "text/html": [
       "<div>\n",
       "<style scoped>\n",
       "    .dataframe tbody tr th:only-of-type {\n",
       "        vertical-align: middle;\n",
       "    }\n",
       "\n",
       "    .dataframe tbody tr th {\n",
       "        vertical-align: top;\n",
       "    }\n",
       "\n",
       "    .dataframe thead th {\n",
       "        text-align: right;\n",
       "    }\n",
       "</style>\n",
       "<table border=\"1\" class=\"dataframe\">\n",
       "  <thead>\n",
       "    <tr style=\"text-align: right;\">\n",
       "      <th></th>\n",
       "      <th>lot_shape</th>\n",
       "      <th>lot_area</th>\n",
       "      <th>lot_frontage</th>\n",
       "    </tr>\n",
       "  </thead>\n",
       "  <tbody>\n",
       "    <tr>\n",
       "      <th>1875</th>\n",
       "      <td>Reg</td>\n",
       "      <td>43500</td>\n",
       "      <td>200.0</td>\n",
       "    </tr>\n",
       "    <tr>\n",
       "      <th>24</th>\n",
       "      <td>Reg</td>\n",
       "      <td>34650</td>\n",
       "      <td>100.0</td>\n",
       "    </tr>\n",
       "    <tr>\n",
       "      <th>635</th>\n",
       "      <td>Reg</td>\n",
       "      <td>31250</td>\n",
       "      <td>125.0</td>\n",
       "    </tr>\n",
       "    <tr>\n",
       "      <th>12</th>\n",
       "      <td>Reg</td>\n",
       "      <td>26400</td>\n",
       "      <td>120.0</td>\n",
       "    </tr>\n",
       "    <tr>\n",
       "      <th>1432</th>\n",
       "      <td>Reg</td>\n",
       "      <td>25000</td>\n",
       "      <td>100.0</td>\n",
       "    </tr>\n",
       "    <tr>\n",
       "      <th>...</th>\n",
       "      <td>...</td>\n",
       "      <td>...</td>\n",
       "      <td>...</td>\n",
       "    </tr>\n",
       "    <tr>\n",
       "      <th>1447</th>\n",
       "      <td>Reg</td>\n",
       "      <td>1484</td>\n",
       "      <td>21.0</td>\n",
       "    </tr>\n",
       "    <tr>\n",
       "      <th>787</th>\n",
       "      <td>Reg</td>\n",
       "      <td>1477</td>\n",
       "      <td>21.0</td>\n",
       "    </tr>\n",
       "    <tr>\n",
       "      <th>53</th>\n",
       "      <td>Reg</td>\n",
       "      <td>1476</td>\n",
       "      <td>21.0</td>\n",
       "    </tr>\n",
       "    <tr>\n",
       "      <th>1544</th>\n",
       "      <td>Reg</td>\n",
       "      <td>1470</td>\n",
       "      <td>21.0</td>\n",
       "    </tr>\n",
       "    <tr>\n",
       "      <th>1510</th>\n",
       "      <td>Reg</td>\n",
       "      <td>1300</td>\n",
       "      <td>24.0</td>\n",
       "    </tr>\n",
       "  </tbody>\n",
       "</table>\n",
       "<p>1210 rows × 3 columns</p>\n",
       "</div>"
      ],
      "text/plain": [
       "     lot_shape  lot_area  lot_frontage\n",
       "1875       Reg     43500         200.0\n",
       "24         Reg     34650         100.0\n",
       "635        Reg     31250         125.0\n",
       "12         Reg     26400         120.0\n",
       "1432       Reg     25000         100.0\n",
       "...        ...       ...           ...\n",
       "1447       Reg      1484          21.0\n",
       "787        Reg      1477          21.0\n",
       "53         Reg      1476          21.0\n",
       "1544       Reg      1470          21.0\n",
       "1510       Reg      1300          24.0\n",
       "\n",
       "[1210 rows x 3 columns]"
      ]
     },
     "execution_count": 35,
     "metadata": {},
     "output_type": "execute_result"
    }
   ],
   "source": [
    "train.loc[((train['lot_shape']=='Reg'\n",
    "           )&(train['lot_frontage'].notna())\n",
    "          ),['lot_shape','lot_area','lot_frontage']\n",
    "         ].sort_values(by='lot_area',ascending=False)"
   ]
  },
  {
   "cell_type": "markdown",
   "id": "aa089055",
   "metadata": {},
   "source": [
    "sorting unique values of regular shape for cross reference to lot_area"
   ]
  },
  {
   "cell_type": "code",
   "execution_count": 36,
   "id": "6c12a731",
   "metadata": {},
   "outputs": [
    {
     "data": {
      "text/plain": [
       "array([ 21.,  24.,  30.,  32.,  33.,  34.,  35.,  36.,  37.,  40.,  41.,\n",
       "        42.,  43.,  44.,  45.,  46.,  47.,  48.,  50.,  51.,  52.,  53.,\n",
       "        54.,  55.,  56.,  57.,  58.,  59.,  60.,  61.,  62.,  63.,  64.,\n",
       "        65.,  66.,  67.,  68.,  69.,  70.,  71.,  72.,  73.,  74.,  75.,\n",
       "        76.,  77.,  78.,  79.,  80.,  81.,  82.,  83.,  84.,  85.,  86.,\n",
       "        87.,  88.,  89.,  90.,  91.,  92.,  93.,  94.,  95.,  96.,  98.,\n",
       "        99., 100., 102., 103., 104., 105., 106., 107., 108., 109., 110.,\n",
       "       111., 112., 113., 114., 115., 119., 120., 125., 128., 129., 130.,\n",
       "       134., 140., 144., 150., 160., 200.])"
      ]
     },
     "execution_count": 36,
     "metadata": {},
     "output_type": "execute_result"
    }
   ],
   "source": [
    "np.sort(train.loc[((train['lot_shape']=='Reg'\n",
    "           )&(train['lot_frontage'].notna())\n",
    "          ),['lot_shape','lot_area','lot_frontage']\n",
    "         ]['lot_frontage'].unique())"
   ]
  },
  {
   "cell_type": "markdown",
   "id": "2a978a17",
   "metadata": {},
   "source": [
    "Replacement of null lot_frontage for lot_area <10000, with median value of lot_frontage for area < 10000"
   ]
  },
  {
   "cell_type": "code",
   "execution_count": 37,
   "id": "1ea74b64",
   "metadata": {
    "scrolled": true
   },
   "outputs": [
    {
     "data": {
      "text/html": [
       "<div>\n",
       "<style scoped>\n",
       "    .dataframe tbody tr th:only-of-type {\n",
       "        vertical-align: middle;\n",
       "    }\n",
       "\n",
       "    .dataframe tbody tr th {\n",
       "        vertical-align: top;\n",
       "    }\n",
       "\n",
       "    .dataframe thead th {\n",
       "        text-align: right;\n",
       "    }\n",
       "</style>\n",
       "<table border=\"1\" class=\"dataframe\">\n",
       "  <thead>\n",
       "    <tr style=\"text-align: right;\">\n",
       "      <th></th>\n",
       "      <th>lot_frontage</th>\n",
       "      <th>lot_area</th>\n",
       "      <th>lot_shape</th>\n",
       "    </tr>\n",
       "  </thead>\n",
       "  <tbody>\n",
       "    <tr>\n",
       "      <th>8</th>\n",
       "      <td>NaN</td>\n",
       "      <td>15783</td>\n",
       "      <td>Reg</td>\n",
       "    </tr>\n",
       "    <tr>\n",
       "      <th>50</th>\n",
       "      <td>NaN</td>\n",
       "      <td>2998</td>\n",
       "      <td>Reg</td>\n",
       "    </tr>\n",
       "    <tr>\n",
       "      <th>76</th>\n",
       "      <td>NaN</td>\n",
       "      <td>17529</td>\n",
       "      <td>Reg</td>\n",
       "    </tr>\n",
       "    <tr>\n",
       "      <th>106</th>\n",
       "      <td>NaN</td>\n",
       "      <td>2651</td>\n",
       "      <td>Reg</td>\n",
       "    </tr>\n",
       "    <tr>\n",
       "      <th>114</th>\n",
       "      <td>NaN</td>\n",
       "      <td>9000</td>\n",
       "      <td>Reg</td>\n",
       "    </tr>\n",
       "    <tr>\n",
       "      <th>...</th>\n",
       "      <td>...</td>\n",
       "      <td>...</td>\n",
       "      <td>...</td>\n",
       "    </tr>\n",
       "    <tr>\n",
       "      <th>1813</th>\n",
       "      <td>NaN</td>\n",
       "      <td>3072</td>\n",
       "      <td>Reg</td>\n",
       "    </tr>\n",
       "    <tr>\n",
       "      <th>1866</th>\n",
       "      <td>NaN</td>\n",
       "      <td>11000</td>\n",
       "      <td>Reg</td>\n",
       "    </tr>\n",
       "    <tr>\n",
       "      <th>1941</th>\n",
       "      <td>NaN</td>\n",
       "      <td>7851</td>\n",
       "      <td>Reg</td>\n",
       "    </tr>\n",
       "    <tr>\n",
       "      <th>1947</th>\n",
       "      <td>NaN</td>\n",
       "      <td>12800</td>\n",
       "      <td>Reg</td>\n",
       "    </tr>\n",
       "    <tr>\n",
       "      <th>1956</th>\n",
       "      <td>NaN</td>\n",
       "      <td>14115</td>\n",
       "      <td>Reg</td>\n",
       "    </tr>\n",
       "  </tbody>\n",
       "</table>\n",
       "<p>85 rows × 3 columns</p>\n",
       "</div>"
      ],
      "text/plain": [
       "      lot_frontage  lot_area lot_shape\n",
       "8              NaN     15783       Reg\n",
       "50             NaN      2998       Reg\n",
       "76             NaN     17529       Reg\n",
       "106            NaN      2651       Reg\n",
       "114            NaN      9000       Reg\n",
       "...            ...       ...       ...\n",
       "1813           NaN      3072       Reg\n",
       "1866           NaN     11000       Reg\n",
       "1941           NaN      7851       Reg\n",
       "1947           NaN     12800       Reg\n",
       "1956           NaN     14115       Reg\n",
       "\n",
       "[85 rows x 3 columns]"
      ]
     },
     "execution_count": 37,
     "metadata": {},
     "output_type": "execute_result"
    }
   ],
   "source": [
    "train.loc[(train['lot_shape']=='Reg'\n",
    "           )&(train['lot_frontage'].isnull()\n",
    "             ),['lot_frontage','lot_area','lot_shape']]"
   ]
  },
  {
   "cell_type": "code",
   "execution_count": 38,
   "id": "7350c46d",
   "metadata": {},
   "outputs": [
    {
     "data": {
      "text/plain": [
       "60.0"
      ]
     },
     "execution_count": 38,
     "metadata": {},
     "output_type": "execute_result"
    }
   ],
   "source": [
    "train.loc[(train['lot_shape']=='Reg'\n",
    "           )&(train['lot_frontage'].notna()\n",
    "             )&(train['lot_area']<10000\n",
    "               ),'lot_frontage'\n",
    "         ].median()"
   ]
  },
  {
   "cell_type": "code",
   "execution_count": 39,
   "id": "301aad20",
   "metadata": {},
   "outputs": [],
   "source": [
    "train.loc[(train['lot_shape']=='Reg'\n",
    "           )&(train['lot_frontage'].isnull()\n",
    "             )&(train['lot_area']<10000\n",
    "               ),'lot_frontage'\n",
    "         ] = 60"
   ]
  },
  {
   "cell_type": "code",
   "execution_count": 40,
   "id": "eabfd086",
   "metadata": {},
   "outputs": [],
   "source": [
    "test.loc[(test['lot_shape']=='Reg'\n",
    "           )&(test['lot_frontage'].isnull()\n",
    "             )&(test['lot_area']<10000\n",
    "               ),'lot_frontage'\n",
    "         ] = 60"
   ]
  },
  {
   "cell_type": "markdown",
   "id": "1a89ef77",
   "metadata": {},
   "source": [
    "Replacement of null lot_frontage for 10_000<lot_area <20_000, with median value of lot_frontage for 10_000<lot_area <20_000"
   ]
  },
  {
   "cell_type": "code",
   "execution_count": 41,
   "id": "80ab6b99",
   "metadata": {},
   "outputs": [
    {
     "data": {
      "text/plain": [
       "80.0"
      ]
     },
     "execution_count": 41,
     "metadata": {},
     "output_type": "execute_result"
    }
   ],
   "source": [
    "train.loc[(train['lot_shape']=='Reg'\n",
    "           )&(train['lot_frontage'].notna()\n",
    "             )&(train['lot_area']>=10000\n",
    "               )&(train['lot_area']<20000),'lot_frontage'\n",
    "         ].median()"
   ]
  },
  {
   "cell_type": "code",
   "execution_count": 42,
   "id": "4854ca5b",
   "metadata": {},
   "outputs": [],
   "source": [
    "train.loc[(train['lot_shape']=='Reg'\n",
    "           )&(train['lot_frontage'].isnull()\n",
    "             )&(train['lot_area']>=10000\n",
    "               )&(train['lot_area']<20000),'lot_frontage'\n",
    "         ]=80"
   ]
  },
  {
   "cell_type": "code",
   "execution_count": 43,
   "id": "9da21dc1",
   "metadata": {},
   "outputs": [],
   "source": [
    "test.loc[(test['lot_shape']=='Reg'\n",
    "           )&(test['lot_frontage'].isnull()\n",
    "             )&(test['lot_area']>=10000\n",
    "               )&(test['lot_area']<20000),'lot_frontage'\n",
    "         ]=80"
   ]
  },
  {
   "cell_type": "markdown",
   "id": "1c0f201b",
   "metadata": {},
   "source": [
    "Replacement of null lot_frontage for 20_000<lot_area <30_000, with median value of lot_frontage for 20_000<lot_area <30_000"
   ]
  },
  {
   "cell_type": "code",
   "execution_count": 44,
   "id": "f61b6d30",
   "metadata": {},
   "outputs": [
    {
     "data": {
      "text/plain": [
       "100.0"
      ]
     },
     "execution_count": 44,
     "metadata": {},
     "output_type": "execute_result"
    }
   ],
   "source": [
    "train.loc[(train['lot_shape']=='Reg'\n",
    "           )&(train['lot_frontage'].notna()\n",
    "             )&(train['lot_area']>=20000\n",
    "               )&(train['lot_area']<30000),'lot_frontage'\n",
    "         ].median()"
   ]
  },
  {
   "cell_type": "code",
   "execution_count": 45,
   "id": "f9ddd85b",
   "metadata": {},
   "outputs": [],
   "source": [
    "train.loc[(train['lot_shape']=='Reg'\n",
    "           )&(train['lot_frontage'].isnull()\n",
    "             )&(train['lot_area']>=20000\n",
    "               )&(train['lot_area']<30000),'lot_frontage'\n",
    "         ] = 100"
   ]
  },
  {
   "cell_type": "code",
   "execution_count": 46,
   "id": "998a64f4",
   "metadata": {},
   "outputs": [],
   "source": [
    "test.loc[(test['lot_shape']=='Reg'\n",
    "           )&(test['lot_frontage'].isnull()\n",
    "             )&(test['lot_area']>=20000\n",
    "               )&(test['lot_area']<30000),'lot_frontage'\n",
    "         ] = 100"
   ]
  },
  {
   "cell_type": "markdown",
   "id": "f84108c7",
   "metadata": {},
   "source": [
    "Replacement of null lot_frontage for 30_000<lot_area <40_000, with mean value of lot_frontage for 30_000<lot_area <40_000"
   ]
  },
  {
   "cell_type": "code",
   "execution_count": 47,
   "id": "1e5afd40",
   "metadata": {},
   "outputs": [
    {
     "data": {
      "text/plain": [
       "112.5"
      ]
     },
     "execution_count": 47,
     "metadata": {},
     "output_type": "execute_result"
    }
   ],
   "source": [
    "train.loc[(train['lot_shape']=='Reg'\n",
    "           )&(train['lot_frontage'].notna()\n",
    "             )&(train['lot_area']>=30000\n",
    "               )&(train['lot_area']<40000),'lot_frontage'\n",
    "         ].mean()"
   ]
  },
  {
   "cell_type": "code",
   "execution_count": 48,
   "id": "397777a1",
   "metadata": {},
   "outputs": [],
   "source": [
    "train.loc[(train['lot_shape']=='Reg')&(train['lot_frontage'].isnull()\n",
    "          )&(train['lot_area']>=30000)&(train['lot_area']<40000\n",
    "           ),'lot_frontage'\n",
    "         ] =112.5"
   ]
  },
  {
   "cell_type": "code",
   "execution_count": 49,
   "id": "0dcbe026",
   "metadata": {},
   "outputs": [],
   "source": [
    "test.loc[(test['lot_shape']=='Reg')&(test['lot_frontage'].isnull()\n",
    "          )&(test['lot_area']>=30000)&(test['lot_area']<40000\n",
    "           ),'lot_frontage'\n",
    "         ] =112.5"
   ]
  },
  {
   "cell_type": "markdown",
   "id": "fceb2f1f",
   "metadata": {},
   "source": [
    "Replacement of null lot_frontage for lot_area>=40_000, with mean value of lot_frontage for lot_area>=40_000"
   ]
  },
  {
   "cell_type": "code",
   "execution_count": 50,
   "id": "9905e40a",
   "metadata": {},
   "outputs": [
    {
     "data": {
      "text/plain": [
       "200.0"
      ]
     },
     "execution_count": 50,
     "metadata": {},
     "output_type": "execute_result"
    }
   ],
   "source": [
    "train.loc[(train['lot_shape']=='Reg')&(train['lot_frontage'].notna() )&(train['lot_area']>=40000\n",
    "           ),'lot_frontage'\n",
    "         ].median()"
   ]
  },
  {
   "cell_type": "code",
   "execution_count": 51,
   "id": "7bde278d",
   "metadata": {},
   "outputs": [],
   "source": [
    "train.loc[(train['lot_shape']=='Reg')&(train['lot_frontage'].isnull())&(train['lot_area']>=40000\n",
    "               ),'lot_frontage'\n",
    "         ] = 200"
   ]
  },
  {
   "cell_type": "code",
   "execution_count": 52,
   "id": "921eab1b",
   "metadata": {},
   "outputs": [],
   "source": [
    "test.loc[(test['lot_shape']=='Reg')&(test['lot_frontage'].isnull())&(test['lot_area']>=40000\n",
    "               ),'lot_frontage'\n",
    "         ] = 200"
   ]
  },
  {
   "cell_type": "markdown",
   "id": "213980fb",
   "metadata": {},
   "source": [
    "Check null value presence in lot_shape = reg"
   ]
  },
  {
   "cell_type": "code",
   "execution_count": 53,
   "id": "8a4178bd",
   "metadata": {},
   "outputs": [
    {
     "data": {
      "text/html": [
       "<div>\n",
       "<style scoped>\n",
       "    .dataframe tbody tr th:only-of-type {\n",
       "        vertical-align: middle;\n",
       "    }\n",
       "\n",
       "    .dataframe tbody tr th {\n",
       "        vertical-align: top;\n",
       "    }\n",
       "\n",
       "    .dataframe thead th {\n",
       "        text-align: right;\n",
       "    }\n",
       "</style>\n",
       "<table border=\"1\" class=\"dataframe\">\n",
       "  <thead>\n",
       "    <tr style=\"text-align: right;\">\n",
       "      <th></th>\n",
       "      <th>lot_frontage</th>\n",
       "      <th>lot_area</th>\n",
       "    </tr>\n",
       "  </thead>\n",
       "  <tbody>\n",
       "  </tbody>\n",
       "</table>\n",
       "</div>"
      ],
      "text/plain": [
       "Empty DataFrame\n",
       "Columns: [lot_frontage, lot_area]\n",
       "Index: []"
      ]
     },
     "execution_count": 53,
     "metadata": {},
     "output_type": "execute_result"
    }
   ],
   "source": [
    "train.loc[(train['lot_shape']=='Reg')&(train['lot_frontage'].isnull()\n",
    "             ),['lot_frontage','lot_area']]"
   ]
  },
  {
   "cell_type": "markdown",
   "id": "17266a71",
   "metadata": {},
   "source": [
    "##### lot_shape = IR1"
   ]
  },
  {
   "cell_type": "code",
   "execution_count": 54,
   "id": "c02f9b42",
   "metadata": {
    "scrolled": true
   },
   "outputs": [
    {
     "data": {
      "text/html": [
       "<div>\n",
       "<style scoped>\n",
       "    .dataframe tbody tr th:only-of-type {\n",
       "        vertical-align: middle;\n",
       "    }\n",
       "\n",
       "    .dataframe tbody tr th {\n",
       "        vertical-align: top;\n",
       "    }\n",
       "\n",
       "    .dataframe thead th {\n",
       "        text-align: right;\n",
       "    }\n",
       "</style>\n",
       "<table border=\"1\" class=\"dataframe\">\n",
       "  <thead>\n",
       "    <tr style=\"text-align: right;\">\n",
       "      <th></th>\n",
       "      <th>lot_shape</th>\n",
       "      <th>lot_area</th>\n",
       "      <th>lot_frontage</th>\n",
       "    </tr>\n",
       "  </thead>\n",
       "  <tbody>\n",
       "    <tr>\n",
       "      <th>1854</th>\n",
       "      <td>IR1</td>\n",
       "      <td>70761</td>\n",
       "      <td>62.0</td>\n",
       "    </tr>\n",
       "    <tr>\n",
       "      <th>1964</th>\n",
       "      <td>IR1</td>\n",
       "      <td>51974</td>\n",
       "      <td>52.0</td>\n",
       "    </tr>\n",
       "    <tr>\n",
       "      <th>1571</th>\n",
       "      <td>IR1</td>\n",
       "      <td>50271</td>\n",
       "      <td>68.0</td>\n",
       "    </tr>\n",
       "    <tr>\n",
       "      <th>616</th>\n",
       "      <td>IR1</td>\n",
       "      <td>47007</td>\n",
       "      <td>123.0</td>\n",
       "    </tr>\n",
       "    <tr>\n",
       "      <th>441</th>\n",
       "      <td>IR1</td>\n",
       "      <td>41600</td>\n",
       "      <td>195.0</td>\n",
       "    </tr>\n",
       "    <tr>\n",
       "      <th>...</th>\n",
       "      <td>...</td>\n",
       "      <td>...</td>\n",
       "      <td>...</td>\n",
       "    </tr>\n",
       "    <tr>\n",
       "      <th>1855</th>\n",
       "      <td>IR1</td>\n",
       "      <td>3784</td>\n",
       "      <td>32.0</td>\n",
       "    </tr>\n",
       "    <tr>\n",
       "      <th>156</th>\n",
       "      <td>IR1</td>\n",
       "      <td>3701</td>\n",
       "      <td>30.0</td>\n",
       "    </tr>\n",
       "    <tr>\n",
       "      <th>95</th>\n",
       "      <td>IR1</td>\n",
       "      <td>3523</td>\n",
       "      <td>80.0</td>\n",
       "    </tr>\n",
       "    <tr>\n",
       "      <th>847</th>\n",
       "      <td>IR1</td>\n",
       "      <td>3435</td>\n",
       "      <td>37.0</td>\n",
       "    </tr>\n",
       "    <tr>\n",
       "      <th>725</th>\n",
       "      <td>IR1</td>\n",
       "      <td>3316</td>\n",
       "      <td>37.0</td>\n",
       "    </tr>\n",
       "  </tbody>\n",
       "</table>\n",
       "<p>469 rows × 3 columns</p>\n",
       "</div>"
      ],
      "text/plain": [
       "     lot_shape  lot_area  lot_frontage\n",
       "1854       IR1     70761          62.0\n",
       "1964       IR1     51974          52.0\n",
       "1571       IR1     50271          68.0\n",
       "616        IR1     47007         123.0\n",
       "441        IR1     41600         195.0\n",
       "...        ...       ...           ...\n",
       "1855       IR1      3784          32.0\n",
       "156        IR1      3701          30.0\n",
       "95         IR1      3523          80.0\n",
       "847        IR1      3435          37.0\n",
       "725        IR1      3316          37.0\n",
       "\n",
       "[469 rows x 3 columns]"
      ]
     },
     "execution_count": 54,
     "metadata": {},
     "output_type": "execute_result"
    }
   ],
   "source": [
    "train.loc[(train['lot_shape']=='IR1')&(train['lot_frontage'].notna()),['lot_shape','lot_area','lot_frontage']\n",
    "         ].sort_values(by=['lot_area'],ascending=False)"
   ]
  },
  {
   "cell_type": "markdown",
   "id": "1e4558b4",
   "metadata": {},
   "source": [
    "Since there is no proportionalty between lot_area and lot_frontage for lot_shape = IR1, nan values will be replaced by median value"
   ]
  },
  {
   "cell_type": "code",
   "execution_count": 55,
   "id": "b6901833",
   "metadata": {},
   "outputs": [
    {
     "data": {
      "text/plain": [
       "lot_frontage    73.0\n",
       "dtype: float64"
      ]
     },
     "execution_count": 55,
     "metadata": {},
     "output_type": "execute_result"
    }
   ],
   "source": [
    "train.loc[(train['lot_shape']=='IR1')&(train['lot_frontage'].notna()\n",
    "             ),['lot_frontage']].median()"
   ]
  },
  {
   "cell_type": "markdown",
   "id": "6bcdd395",
   "metadata": {},
   "source": [
    "Filling up nan values with median value"
   ]
  },
  {
   "cell_type": "code",
   "execution_count": 56,
   "id": "c976eca5",
   "metadata": {},
   "outputs": [],
   "source": [
    "train.loc[(train['lot_shape'] == 'IR1') & (train['lot_frontage'].isnull()\n",
    "              ),'lot_frontage'] =73"
   ]
  },
  {
   "cell_type": "code",
   "execution_count": 57,
   "id": "5b986f91",
   "metadata": {},
   "outputs": [],
   "source": [
    "test.loc[(test['lot_shape'] == 'IR1') & (test['lot_frontage'].isnull()\n",
    "              ),'lot_frontage'] =73"
   ]
  },
  {
   "cell_type": "markdown",
   "id": "6a87c1bc",
   "metadata": {},
   "source": [
    "##### lot_shape = IR2"
   ]
  },
  {
   "cell_type": "code",
   "execution_count": 58,
   "id": "a6c2fcb8",
   "metadata": {
    "scrolled": true
   },
   "outputs": [
    {
     "data": {
      "text/html": [
       "<div>\n",
       "<style scoped>\n",
       "    .dataframe tbody tr th:only-of-type {\n",
       "        vertical-align: middle;\n",
       "    }\n",
       "\n",
       "    .dataframe tbody tr th {\n",
       "        vertical-align: top;\n",
       "    }\n",
       "\n",
       "    .dataframe thead th {\n",
       "        text-align: right;\n",
       "    }\n",
       "</style>\n",
       "<table border=\"1\" class=\"dataframe\">\n",
       "  <thead>\n",
       "    <tr style=\"text-align: right;\">\n",
       "      <th></th>\n",
       "      <th>lot_shape</th>\n",
       "      <th>lot_area</th>\n",
       "      <th>lot_frontage</th>\n",
       "    </tr>\n",
       "  </thead>\n",
       "  <tbody>\n",
       "    <tr>\n",
       "      <th>823</th>\n",
       "      <td>IR2</td>\n",
       "      <td>53504</td>\n",
       "      <td>47.0</td>\n",
       "    </tr>\n",
       "    <tr>\n",
       "      <th>1542</th>\n",
       "      <td>IR2</td>\n",
       "      <td>46589</td>\n",
       "      <td>52.0</td>\n",
       "    </tr>\n",
       "    <tr>\n",
       "      <th>1335</th>\n",
       "      <td>IR2</td>\n",
       "      <td>27650</td>\n",
       "      <td>313.0</td>\n",
       "    </tr>\n",
       "    <tr>\n",
       "      <th>1035</th>\n",
       "      <td>IR2</td>\n",
       "      <td>22950</td>\n",
       "      <td>90.0</td>\n",
       "    </tr>\n",
       "    <tr>\n",
       "      <th>886</th>\n",
       "      <td>IR2</td>\n",
       "      <td>21872</td>\n",
       "      <td>57.0</td>\n",
       "    </tr>\n",
       "    <tr>\n",
       "      <th>70</th>\n",
       "      <td>IR2</td>\n",
       "      <td>17485</td>\n",
       "      <td>44.0</td>\n",
       "    </tr>\n",
       "    <tr>\n",
       "      <th>1792</th>\n",
       "      <td>IR2</td>\n",
       "      <td>17227</td>\n",
       "      <td>73.0</td>\n",
       "    </tr>\n",
       "    <tr>\n",
       "      <th>800</th>\n",
       "      <td>IR2</td>\n",
       "      <td>17169</td>\n",
       "      <td>59.0</td>\n",
       "    </tr>\n",
       "    <tr>\n",
       "      <th>1976</th>\n",
       "      <td>IR2</td>\n",
       "      <td>16770</td>\n",
       "      <td>58.0</td>\n",
       "    </tr>\n",
       "    <tr>\n",
       "      <th>1753</th>\n",
       "      <td>IR2</td>\n",
       "      <td>16561</td>\n",
       "      <td>70.0</td>\n",
       "    </tr>\n",
       "    <tr>\n",
       "      <th>1150</th>\n",
       "      <td>IR2</td>\n",
       "      <td>16285</td>\n",
       "      <td>67.0</td>\n",
       "    </tr>\n",
       "    <tr>\n",
       "      <th>618</th>\n",
       "      <td>IR2</td>\n",
       "      <td>14963</td>\n",
       "      <td>38.0</td>\n",
       "    </tr>\n",
       "    <tr>\n",
       "      <th>1938</th>\n",
       "      <td>IR2</td>\n",
       "      <td>14753</td>\n",
       "      <td>65.0</td>\n",
       "    </tr>\n",
       "    <tr>\n",
       "      <th>631</th>\n",
       "      <td>IR2</td>\n",
       "      <td>14565</td>\n",
       "      <td>43.0</td>\n",
       "    </tr>\n",
       "    <tr>\n",
       "      <th>1170</th>\n",
       "      <td>IR2</td>\n",
       "      <td>13682</td>\n",
       "      <td>66.0</td>\n",
       "    </tr>\n",
       "    <tr>\n",
       "      <th>674</th>\n",
       "      <td>IR2</td>\n",
       "      <td>13568</td>\n",
       "      <td>43.0</td>\n",
       "    </tr>\n",
       "    <tr>\n",
       "      <th>1672</th>\n",
       "      <td>IR2</td>\n",
       "      <td>12464</td>\n",
       "      <td>82.0</td>\n",
       "    </tr>\n",
       "    <tr>\n",
       "      <th>888</th>\n",
       "      <td>IR2</td>\n",
       "      <td>12393</td>\n",
       "      <td>41.0</td>\n",
       "    </tr>\n",
       "    <tr>\n",
       "      <th>879</th>\n",
       "      <td>IR2</td>\n",
       "      <td>12352</td>\n",
       "      <td>43.0</td>\n",
       "    </tr>\n",
       "    <tr>\n",
       "      <th>1368</th>\n",
       "      <td>IR2</td>\n",
       "      <td>12137</td>\n",
       "      <td>48.0</td>\n",
       "    </tr>\n",
       "    <tr>\n",
       "      <th>462</th>\n",
       "      <td>IR2</td>\n",
       "      <td>11672</td>\n",
       "      <td>50.0</td>\n",
       "    </tr>\n",
       "    <tr>\n",
       "      <th>897</th>\n",
       "      <td>IR2</td>\n",
       "      <td>11228</td>\n",
       "      <td>59.0</td>\n",
       "    </tr>\n",
       "    <tr>\n",
       "      <th>300</th>\n",
       "      <td>IR2</td>\n",
       "      <td>11064</td>\n",
       "      <td>22.0</td>\n",
       "    </tr>\n",
       "    <tr>\n",
       "      <th>1465</th>\n",
       "      <td>IR2</td>\n",
       "      <td>10943</td>\n",
       "      <td>26.0</td>\n",
       "    </tr>\n",
       "    <tr>\n",
       "      <th>434</th>\n",
       "      <td>IR2</td>\n",
       "      <td>10905</td>\n",
       "      <td>41.0</td>\n",
       "    </tr>\n",
       "    <tr>\n",
       "      <th>936</th>\n",
       "      <td>IR2</td>\n",
       "      <td>10820</td>\n",
       "      <td>47.0</td>\n",
       "    </tr>\n",
       "    <tr>\n",
       "      <th>968</th>\n",
       "      <td>IR2</td>\n",
       "      <td>10667</td>\n",
       "      <td>43.0</td>\n",
       "    </tr>\n",
       "    <tr>\n",
       "      <th>1553</th>\n",
       "      <td>IR2</td>\n",
       "      <td>9468</td>\n",
       "      <td>45.0</td>\n",
       "    </tr>\n",
       "    <tr>\n",
       "      <th>1257</th>\n",
       "      <td>IR2</td>\n",
       "      <td>9466</td>\n",
       "      <td>50.0</td>\n",
       "    </tr>\n",
       "    <tr>\n",
       "      <th>345</th>\n",
       "      <td>IR2</td>\n",
       "      <td>9370</td>\n",
       "      <td>70.0</td>\n",
       "    </tr>\n",
       "    <tr>\n",
       "      <th>1857</th>\n",
       "      <td>IR2</td>\n",
       "      <td>9245</td>\n",
       "      <td>57.0</td>\n",
       "    </tr>\n",
       "    <tr>\n",
       "      <th>1497</th>\n",
       "      <td>IR2</td>\n",
       "      <td>8773</td>\n",
       "      <td>26.0</td>\n",
       "    </tr>\n",
       "    <tr>\n",
       "      <th>39</th>\n",
       "      <td>IR2</td>\n",
       "      <td>8428</td>\n",
       "      <td>60.0</td>\n",
       "    </tr>\n",
       "    <tr>\n",
       "      <th>844</th>\n",
       "      <td>IR2</td>\n",
       "      <td>5330</td>\n",
       "      <td>30.0</td>\n",
       "    </tr>\n",
       "    <tr>\n",
       "      <th>363</th>\n",
       "      <td>IR2</td>\n",
       "      <td>4500</td>\n",
       "      <td>55.0</td>\n",
       "    </tr>\n",
       "    <tr>\n",
       "      <th>1881</th>\n",
       "      <td>IR2</td>\n",
       "      <td>4282</td>\n",
       "      <td>59.0</td>\n",
       "    </tr>\n",
       "  </tbody>\n",
       "</table>\n",
       "</div>"
      ],
      "text/plain": [
       "     lot_shape  lot_area  lot_frontage\n",
       "823        IR2     53504          47.0\n",
       "1542       IR2     46589          52.0\n",
       "1335       IR2     27650         313.0\n",
       "1035       IR2     22950          90.0\n",
       "886        IR2     21872          57.0\n",
       "70         IR2     17485          44.0\n",
       "1792       IR2     17227          73.0\n",
       "800        IR2     17169          59.0\n",
       "1976       IR2     16770          58.0\n",
       "1753       IR2     16561          70.0\n",
       "1150       IR2     16285          67.0\n",
       "618        IR2     14963          38.0\n",
       "1938       IR2     14753          65.0\n",
       "631        IR2     14565          43.0\n",
       "1170       IR2     13682          66.0\n",
       "674        IR2     13568          43.0\n",
       "1672       IR2     12464          82.0\n",
       "888        IR2     12393          41.0\n",
       "879        IR2     12352          43.0\n",
       "1368       IR2     12137          48.0\n",
       "462        IR2     11672          50.0\n",
       "897        IR2     11228          59.0\n",
       "300        IR2     11064          22.0\n",
       "1465       IR2     10943          26.0\n",
       "434        IR2     10905          41.0\n",
       "936        IR2     10820          47.0\n",
       "968        IR2     10667          43.0\n",
       "1553       IR2      9468          45.0\n",
       "1257       IR2      9466          50.0\n",
       "345        IR2      9370          70.0\n",
       "1857       IR2      9245          57.0\n",
       "1497       IR2      8773          26.0\n",
       "39         IR2      8428          60.0\n",
       "844        IR2      5330          30.0\n",
       "363        IR2      4500          55.0\n",
       "1881       IR2      4282          59.0"
      ]
     },
     "execution_count": 58,
     "metadata": {},
     "output_type": "execute_result"
    }
   ],
   "source": [
    "train.loc[(train['lot_shape']=='IR2')&(train['lot_frontage'].notna()),['lot_shape','lot_area','lot_frontage']\n",
    "         ].sort_values(by=['lot_area'],ascending=False)"
   ]
  },
  {
   "cell_type": "markdown",
   "id": "02846d09",
   "metadata": {},
   "source": [
    "Since there is no proportionality between lot_area and lot_frontage, for lot_shape = IR2, nan values will be reaplaced by median values"
   ]
  },
  {
   "cell_type": "code",
   "execution_count": 59,
   "id": "7042fa93",
   "metadata": {},
   "outputs": [
    {
     "data": {
      "text/plain": [
       "lot_frontage    51.0\n",
       "dtype: float64"
      ]
     },
     "execution_count": 59,
     "metadata": {},
     "output_type": "execute_result"
    }
   ],
   "source": [
    "train.loc[(train['lot_shape']=='IR2')&(train['lot_frontage'].notna()\n",
    "            ),['lot_frontage']].median() #check for median values"
   ]
  },
  {
   "cell_type": "code",
   "execution_count": 60,
   "id": "7baf42b2",
   "metadata": {},
   "outputs": [
    {
     "data": {
      "text/plain": [
       "19"
      ]
     },
     "execution_count": 60,
     "metadata": {},
     "output_type": "execute_result"
    }
   ],
   "source": [
    "len(train.loc[(train['lot_shape']=='IR2')&(train['lot_frontage'].isnull()\n",
    "                ),'lot_frontage'])"
   ]
  },
  {
   "cell_type": "markdown",
   "id": "14fbcc57",
   "metadata": {},
   "source": [
    "Replacing null valuse with median value of 51"
   ]
  },
  {
   "cell_type": "code",
   "execution_count": 61,
   "id": "a2830d74",
   "metadata": {},
   "outputs": [],
   "source": [
    "train.loc[(train['lot_shape']=='IR2')&(train['lot_frontage'].isnull()\n",
    "            ),'lot_frontage'] = 51"
   ]
  },
  {
   "cell_type": "code",
   "execution_count": 62,
   "id": "26eb5d47",
   "metadata": {},
   "outputs": [],
   "source": [
    "test.loc[(test['lot_shape']=='IR2')&(test['lot_frontage'].isnull()\n",
    "            ),'lot_frontage'] = 51"
   ]
  },
  {
   "cell_type": "markdown",
   "id": "5ea3bcf1",
   "metadata": {},
   "source": [
    "##### lot_shape = IR3"
   ]
  },
  {
   "cell_type": "code",
   "execution_count": 63,
   "id": "05d5d4b5",
   "metadata": {},
   "outputs": [
    {
     "data": {
      "text/html": [
       "<div>\n",
       "<style scoped>\n",
       "    .dataframe tbody tr th:only-of-type {\n",
       "        vertical-align: middle;\n",
       "    }\n",
       "\n",
       "    .dataframe tbody tr th {\n",
       "        vertical-align: top;\n",
       "    }\n",
       "\n",
       "    .dataframe thead th {\n",
       "        text-align: right;\n",
       "    }\n",
       "</style>\n",
       "<table border=\"1\" class=\"dataframe\">\n",
       "  <thead>\n",
       "    <tr style=\"text-align: right;\">\n",
       "      <th></th>\n",
       "      <th>lot_shape</th>\n",
       "      <th>lot_area</th>\n",
       "      <th>lot_frontage</th>\n",
       "    </tr>\n",
       "  </thead>\n",
       "  <tbody>\n",
       "    <tr>\n",
       "      <th>960</th>\n",
       "      <td>IR3</td>\n",
       "      <td>63887</td>\n",
       "      <td>313.0</td>\n",
       "    </tr>\n",
       "    <tr>\n",
       "      <th>1701</th>\n",
       "      <td>IR3</td>\n",
       "      <td>33120</td>\n",
       "      <td>90.0</td>\n",
       "    </tr>\n",
       "    <tr>\n",
       "      <th>1155</th>\n",
       "      <td>IR3</td>\n",
       "      <td>21930</td>\n",
       "      <td>60.0</td>\n",
       "    </tr>\n",
       "    <tr>\n",
       "      <th>1006</th>\n",
       "      <td>IR3</td>\n",
       "      <td>16226</td>\n",
       "      <td>66.0</td>\n",
       "    </tr>\n",
       "    <tr>\n",
       "      <th>2023</th>\n",
       "      <td>IR3</td>\n",
       "      <td>12304</td>\n",
       "      <td>135.0</td>\n",
       "    </tr>\n",
       "    <tr>\n",
       "      <th>487</th>\n",
       "      <td>IR3</td>\n",
       "      <td>5232</td>\n",
       "      <td>30.0</td>\n",
       "    </tr>\n",
       "  </tbody>\n",
       "</table>\n",
       "</div>"
      ],
      "text/plain": [
       "     lot_shape  lot_area  lot_frontage\n",
       "960        IR3     63887         313.0\n",
       "1701       IR3     33120          90.0\n",
       "1155       IR3     21930          60.0\n",
       "1006       IR3     16226          66.0\n",
       "2023       IR3     12304         135.0\n",
       "487        IR3      5232          30.0"
      ]
     },
     "execution_count": 63,
     "metadata": {},
     "output_type": "execute_result"
    }
   ],
   "source": [
    "train.loc[(train['lot_shape']=='IR3')&(train['lot_frontage'].notna()),['lot_shape','lot_area','lot_frontage']\n",
    "         ].sort_values(by=['lot_area'],ascending=False)"
   ]
  },
  {
   "cell_type": "markdown",
   "id": "4436b0e5",
   "metadata": {},
   "source": [
    "for lotshape = IR3, aside for the outlier, of 135, there is an increasing lot_frontage length for increasing lot area\n",
    "will replace lot_frontage below 10000 with 30, and replace 10000 to 50000 with 66"
   ]
  },
  {
   "cell_type": "code",
   "execution_count": 64,
   "id": "a844e9ab",
   "metadata": {},
   "outputs": [
    {
     "data": {
      "text/html": [
       "<div>\n",
       "<style scoped>\n",
       "    .dataframe tbody tr th:only-of-type {\n",
       "        vertical-align: middle;\n",
       "    }\n",
       "\n",
       "    .dataframe tbody tr th {\n",
       "        vertical-align: top;\n",
       "    }\n",
       "\n",
       "    .dataframe thead th {\n",
       "        text-align: right;\n",
       "    }\n",
       "</style>\n",
       "<table border=\"1\" class=\"dataframe\">\n",
       "  <thead>\n",
       "    <tr style=\"text-align: right;\">\n",
       "      <th></th>\n",
       "      <th>lot_shape</th>\n",
       "      <th>lot_area</th>\n",
       "      <th>lot_frontage</th>\n",
       "    </tr>\n",
       "  </thead>\n",
       "  <tbody>\n",
       "    <tr>\n",
       "      <th>91</th>\n",
       "      <td>IR3</td>\n",
       "      <td>15295</td>\n",
       "      <td>NaN</td>\n",
       "    </tr>\n",
       "    <tr>\n",
       "      <th>1735</th>\n",
       "      <td>IR3</td>\n",
       "      <td>12155</td>\n",
       "      <td>NaN</td>\n",
       "    </tr>\n",
       "    <tr>\n",
       "      <th>941</th>\n",
       "      <td>IR3</td>\n",
       "      <td>9771</td>\n",
       "      <td>NaN</td>\n",
       "    </tr>\n",
       "  </tbody>\n",
       "</table>\n",
       "</div>"
      ],
      "text/plain": [
       "     lot_shape  lot_area  lot_frontage\n",
       "91         IR3     15295           NaN\n",
       "1735       IR3     12155           NaN\n",
       "941        IR3      9771           NaN"
      ]
     },
     "execution_count": 64,
     "metadata": {},
     "output_type": "execute_result"
    }
   ],
   "source": [
    "train.loc[(train['lot_shape']=='IR3')&(train['lot_frontage'].isnull()),['lot_shape','lot_area','lot_frontage']\n",
    "         ].sort_values(by=['lot_area'],ascending=False)"
   ]
  },
  {
   "cell_type": "markdown",
   "id": "535f475b",
   "metadata": {},
   "source": [
    "Replacing lot area less than 10000 with 30"
   ]
  },
  {
   "cell_type": "code",
   "execution_count": 65,
   "id": "76d530e4",
   "metadata": {},
   "outputs": [],
   "source": [
    "train.loc[(train['lot_shape']=='IR3')&(train['lot_frontage'].isnull())&(train['lot_area']<10000)\n",
    "          ,'lot_frontage']=30"
   ]
  },
  {
   "cell_type": "code",
   "execution_count": 66,
   "id": "725db338",
   "metadata": {},
   "outputs": [],
   "source": [
    "test.loc[(test['lot_shape']=='IR3')&(test['lot_frontage'].isnull())&(test['lot_area']<10000)\n",
    "          ,'lot_frontage']=30"
   ]
  },
  {
   "cell_type": "markdown",
   "id": "d74cfb18",
   "metadata": {},
   "source": [
    "Replacing lot area more than 10000 and less than 50000 with 66"
   ]
  },
  {
   "cell_type": "code",
   "execution_count": 67,
   "id": "959a8ba2",
   "metadata": {},
   "outputs": [],
   "source": [
    "train.loc[(train['lot_shape']=='IR3')&(train['lot_frontage'].isnull()\n",
    "            )&\n",
    "          (train['lot_area']>=10000) & (train['lot_area']<50000),'lot_frontage'] = 66"
   ]
  },
  {
   "cell_type": "code",
   "execution_count": 68,
   "id": "f3825bb5",
   "metadata": {},
   "outputs": [],
   "source": [
    "test.loc[(test['lot_shape']=='IR3')&(test['lot_frontage'].isnull()\n",
    "            )&\n",
    "          (test['lot_area']>=10000) & (test['lot_area']<50000),'lot_frontage'] = 66"
   ]
  },
  {
   "cell_type": "markdown",
   "id": "f6962709",
   "metadata": {},
   "source": [
    "Check if replacement is done"
   ]
  },
  {
   "cell_type": "code",
   "execution_count": 69,
   "id": "f08c4086",
   "metadata": {},
   "outputs": [
    {
     "data": {
      "text/plain": [
       "0"
      ]
     },
     "execution_count": 69,
     "metadata": {},
     "output_type": "execute_result"
    }
   ],
   "source": [
    "train['lot_frontage'].isnull().sum()"
   ]
  },
  {
   "cell_type": "markdown",
   "id": "be7e3c85",
   "metadata": {},
   "source": [
    "<font size = 3 color = \"green\">post project better solution for easier referencing.</font>"
   ]
  },
  {
   "cell_type": "code",
   "execution_count": 70,
   "id": "0ed9c23a",
   "metadata": {
    "scrolled": false
   },
   "outputs": [
    {
     "data": {
      "text/html": [
       "<div>\n",
       "<style scoped>\n",
       "    .dataframe tbody tr th:only-of-type {\n",
       "        vertical-align: middle;\n",
       "    }\n",
       "\n",
       "    .dataframe tbody tr th {\n",
       "        vertical-align: top;\n",
       "    }\n",
       "\n",
       "    .dataframe thead th {\n",
       "        text-align: right;\n",
       "    }\n",
       "</style>\n",
       "<table border=\"1\" class=\"dataframe\">\n",
       "  <thead>\n",
       "    <tr style=\"text-align: right;\">\n",
       "      <th></th>\n",
       "      <th></th>\n",
       "      <th>lot_area</th>\n",
       "      <th>lot_frontage</th>\n",
       "    </tr>\n",
       "    <tr>\n",
       "      <th>neighborhood</th>\n",
       "      <th>lot_shape</th>\n",
       "      <th></th>\n",
       "      <th></th>\n",
       "    </tr>\n",
       "  </thead>\n",
       "  <tbody>\n",
       "    <tr>\n",
       "      <th>Blmngtn</th>\n",
       "      <th>Reg</th>\n",
       "      <td>3189.0</td>\n",
       "      <td>53.0</td>\n",
       "    </tr>\n",
       "    <tr>\n",
       "      <th rowspan=\"2\" valign=\"top\">Blueste</th>\n",
       "      <th>IR1</th>\n",
       "      <td>3907.0</td>\n",
       "      <td>35.0</td>\n",
       "    </tr>\n",
       "    <tr>\n",
       "      <th>Reg</th>\n",
       "      <td>1697.0</td>\n",
       "      <td>24.0</td>\n",
       "    </tr>\n",
       "    <tr>\n",
       "      <th>BrDale</th>\n",
       "      <th>Reg</th>\n",
       "      <td>1680.0</td>\n",
       "      <td>21.0</td>\n",
       "    </tr>\n",
       "    <tr>\n",
       "      <th>BrkSide</th>\n",
       "      <th>IR1</th>\n",
       "      <td>7111.0</td>\n",
       "      <td>60.0</td>\n",
       "    </tr>\n",
       "    <tr>\n",
       "      <th>...</th>\n",
       "      <th>...</th>\n",
       "      <td>...</td>\n",
       "      <td>...</td>\n",
       "    </tr>\n",
       "    <tr>\n",
       "      <th rowspan=\"2\" valign=\"top\">Timber</th>\n",
       "      <th>IR1</th>\n",
       "      <td>11506.0</td>\n",
       "      <td>73.0</td>\n",
       "    </tr>\n",
       "    <tr>\n",
       "      <th>Reg</th>\n",
       "      <td>11446.5</td>\n",
       "      <td>85.0</td>\n",
       "    </tr>\n",
       "    <tr>\n",
       "      <th rowspan=\"3\" valign=\"top\">Veenker</th>\n",
       "      <th>IR1</th>\n",
       "      <td>15003.0</td>\n",
       "      <td>73.0</td>\n",
       "    </tr>\n",
       "    <tr>\n",
       "      <th>IR2</th>\n",
       "      <td>11064.0</td>\n",
       "      <td>38.0</td>\n",
       "    </tr>\n",
       "    <tr>\n",
       "      <th>Reg</th>\n",
       "      <td>12940.0</td>\n",
       "      <td>87.5</td>\n",
       "    </tr>\n",
       "  </tbody>\n",
       "</table>\n",
       "<p>75 rows × 2 columns</p>\n",
       "</div>"
      ],
      "text/plain": [
       "                        lot_area  lot_frontage\n",
       "neighborhood lot_shape                        \n",
       "Blmngtn      Reg          3189.0          53.0\n",
       "Blueste      IR1          3907.0          35.0\n",
       "             Reg          1697.0          24.0\n",
       "BrDale       Reg          1680.0          21.0\n",
       "BrkSide      IR1          7111.0          60.0\n",
       "...                          ...           ...\n",
       "Timber       IR1         11506.0          73.0\n",
       "             Reg         11446.5          85.0\n",
       "Veenker      IR1         15003.0          73.0\n",
       "             IR2         11064.0          38.0\n",
       "             Reg         12940.0          87.5\n",
       "\n",
       "[75 rows x 2 columns]"
      ]
     },
     "execution_count": 70,
     "metadata": {},
     "output_type": "execute_result"
    }
   ],
   "source": [
    "train.groupby(['neighborhood', 'lot_shape']).agg({'lot_area': 'median', 'lot_frontage': 'median'})"
   ]
  },
  {
   "cell_type": "markdown",
   "id": "0e4b6062",
   "metadata": {},
   "source": [
    "### garage_yr_blt, ,garage_finish, garage_qual , garage_cond and garage_type"
   ]
  },
  {
   "cell_type": "markdown",
   "id": "b05dd27e",
   "metadata": {},
   "source": [
    "These are the relationships for garage_yr_blt,garage_finish, garage_qual , garage_cond and garage_type\n",
    "1) garage_yr_blt vs garage_finish, if garage_yr_blt is not nan, garage_finish nan valuse cannot be NA, since there is a garage<br>\n",
    "2) for garage_con, garage_finish, garage_qual, null Values cannot be NA if there is a garage present in garage_finish"
   ]
  },
  {
   "cell_type": "markdown",
   "id": "20842a9f",
   "metadata": {},
   "source": [
    "Check unique values of garage_yr_blt"
   ]
  },
  {
   "cell_type": "code",
   "execution_count": 71,
   "id": "afda7dc0",
   "metadata": {
    "scrolled": false
   },
   "outputs": [
    {
     "data": {
      "text/plain": [
       "array([1895., 1896., 1900., 1910., 1914., 1915., 1916., 1917., 1918.,\n",
       "       1919., 1920., 1921., 1922., 1923., 1924., 1925., 1926., 1927.,\n",
       "       1928., 1929., 1930., 1931., 1932., 1933., 1934., 1935., 1936.,\n",
       "       1937., 1938., 1939., 1940., 1941., 1942., 1945., 1946., 1947.,\n",
       "       1948., 1949., 1950., 1951., 1952., 1953., 1954., 1955., 1956.,\n",
       "       1957., 1958., 1959., 1960., 1961., 1962., 1963., 1964., 1965.,\n",
       "       1966., 1967., 1968., 1969., 1970., 1971., 1972., 1973., 1974.,\n",
       "       1975., 1976., 1977., 1978., 1979., 1980., 1981., 1982., 1983.,\n",
       "       1984., 1985., 1986., 1987., 1988., 1989., 1990., 1991., 1992.,\n",
       "       1993., 1994., 1995., 1996., 1997., 1998., 1999., 2000., 2001.,\n",
       "       2002., 2003., 2004., 2005., 2006., 2007., 2008., 2009., 2010.,\n",
       "       2207.,   nan])"
      ]
     },
     "execution_count": 71,
     "metadata": {},
     "output_type": "execute_result"
    }
   ],
   "source": [
    "np.sort(train['garage_yr_blt'].unique())"
   ]
  },
  {
   "cell_type": "markdown",
   "id": "7a920324",
   "metadata": {},
   "source": [
    "Check how many rows of garage_yr_blt = 2207"
   ]
  },
  {
   "cell_type": "code",
   "execution_count": 72,
   "id": "0f6cb971",
   "metadata": {},
   "outputs": [
    {
     "data": {
      "text/html": [
       "<div>\n",
       "<style scoped>\n",
       "    .dataframe tbody tr th:only-of-type {\n",
       "        vertical-align: middle;\n",
       "    }\n",
       "\n",
       "    .dataframe tbody tr th {\n",
       "        vertical-align: top;\n",
       "    }\n",
       "\n",
       "    .dataframe thead th {\n",
       "        text-align: right;\n",
       "    }\n",
       "</style>\n",
       "<table border=\"1\" class=\"dataframe\">\n",
       "  <thead>\n",
       "    <tr style=\"text-align: right;\">\n",
       "      <th></th>\n",
       "      <th>ms_subclass</th>\n",
       "      <th>ms_zoning</th>\n",
       "      <th>lot_frontage</th>\n",
       "      <th>lot_area</th>\n",
       "      <th>street</th>\n",
       "      <th>alley</th>\n",
       "      <th>lot_shape</th>\n",
       "      <th>land_contour</th>\n",
       "      <th>utilities</th>\n",
       "      <th>lot_config</th>\n",
       "      <th>...</th>\n",
       "      <th>3ssn_porch</th>\n",
       "      <th>screen_porch</th>\n",
       "      <th>pool_area</th>\n",
       "      <th>pool_qc</th>\n",
       "      <th>fence</th>\n",
       "      <th>misc_feature</th>\n",
       "      <th>misc_val</th>\n",
       "      <th>mo_sold</th>\n",
       "      <th>yr_sold</th>\n",
       "      <th>saleprice</th>\n",
       "    </tr>\n",
       "  </thead>\n",
       "  <tbody>\n",
       "    <tr>\n",
       "      <th>1699</th>\n",
       "      <td>20</td>\n",
       "      <td>RL</td>\n",
       "      <td>68.0</td>\n",
       "      <td>8298</td>\n",
       "      <td>Pave</td>\n",
       "      <td>NA</td>\n",
       "      <td>IR1</td>\n",
       "      <td>HLS</td>\n",
       "      <td>AllPub</td>\n",
       "      <td>Inside</td>\n",
       "      <td>...</td>\n",
       "      <td>0</td>\n",
       "      <td>0</td>\n",
       "      <td>0</td>\n",
       "      <td>NA</td>\n",
       "      <td>NA</td>\n",
       "      <td>NA</td>\n",
       "      <td>0</td>\n",
       "      <td>9</td>\n",
       "      <td>2007</td>\n",
       "      <td>267300</td>\n",
       "    </tr>\n",
       "  </tbody>\n",
       "</table>\n",
       "<p>1 rows × 78 columns</p>\n",
       "</div>"
      ],
      "text/plain": [
       "      ms_subclass ms_zoning  lot_frontage  lot_area street alley lot_shape  \\\n",
       "1699           20        RL          68.0      8298   Pave    NA       IR1   \n",
       "\n",
       "     land_contour utilities lot_config  ... 3ssn_porch screen_porch pool_area  \\\n",
       "1699          HLS    AllPub     Inside  ...          0            0         0   \n",
       "\n",
       "     pool_qc fence misc_feature  misc_val  mo_sold  yr_sold  saleprice  \n",
       "1699      NA    NA           NA         0        9     2007     267300  \n",
       "\n",
       "[1 rows x 78 columns]"
      ]
     },
     "execution_count": 72,
     "metadata": {},
     "output_type": "execute_result"
    }
   ],
   "source": [
    "train.loc[train['garage_yr_blt']==2207,:]"
   ]
  },
  {
   "cell_type": "markdown",
   "id": "47a42b2e",
   "metadata": {},
   "source": [
    "there is a 2207 year for garage_yr_blt, it will be dropped "
   ]
  },
  {
   "cell_type": "code",
   "execution_count": 73,
   "id": "ca7346f5",
   "metadata": {},
   "outputs": [],
   "source": [
    "train = train.drop(1699).reset_index(drop=True)"
   ]
  },
  {
   "cell_type": "markdown",
   "id": "d48c752b",
   "metadata": {},
   "source": [
    "check rows where garage_finish is null, and garate_yr_blt is not null"
   ]
  },
  {
   "cell_type": "code",
   "execution_count": 74,
   "id": "27828721",
   "metadata": {
    "scrolled": true
   },
   "outputs": [
    {
     "data": {
      "text/html": [
       "<div>\n",
       "<style scoped>\n",
       "    .dataframe tbody tr th:only-of-type {\n",
       "        vertical-align: middle;\n",
       "    }\n",
       "\n",
       "    .dataframe tbody tr th {\n",
       "        vertical-align: top;\n",
       "    }\n",
       "\n",
       "    .dataframe thead th {\n",
       "        text-align: right;\n",
       "    }\n",
       "</style>\n",
       "<table border=\"1\" class=\"dataframe\">\n",
       "  <thead>\n",
       "    <tr style=\"text-align: right;\">\n",
       "      <th></th>\n",
       "      <th>garage_yr_blt</th>\n",
       "      <th>garage_finish</th>\n",
       "    </tr>\n",
       "  </thead>\n",
       "  <tbody>\n",
       "  </tbody>\n",
       "</table>\n",
       "</div>"
      ],
      "text/plain": [
       "Empty DataFrame\n",
       "Columns: [garage_yr_blt, garage_finish]\n",
       "Index: []"
      ]
     },
     "execution_count": 74,
     "metadata": {},
     "output_type": "execute_result"
    }
   ],
   "source": [
    "train.loc[(train['garage_yr_blt'].notna())&(train['garage_finish'].isnull()\n",
    "            ),['garage_yr_blt','garage_finish']]"
   ]
  },
  {
   "cell_type": "markdown",
   "id": "058cbea2",
   "metadata": {},
   "source": [
    "since all null values of garage_yrblt and garage_finish is due to no garage, garage_cond, garage_cond,garage_type should be all null for this row "
   ]
  },
  {
   "cell_type": "code",
   "execution_count": 75,
   "id": "7fb300e5",
   "metadata": {},
   "outputs": [
    {
     "data": {
      "text/plain": [
       "garage_yr_blt    114\n",
       "garage_finish    114\n",
       "garage_cond      114\n",
       "garage_qual      114\n",
       "garage_type      113\n",
       "dtype: int64"
      ]
     },
     "execution_count": 75,
     "metadata": {},
     "output_type": "execute_result"
    }
   ],
   "source": [
    "train.loc[(train['garage_yr_blt'].isnull())&(train['garage_finish'].isnull()\n",
    "            ),['garage_yr_blt','garage_finish','garage_cond','garage_qual','garage_type']\n",
    "         ].isnull().sum()"
   ]
  },
  {
   "cell_type": "markdown",
   "id": "73d1005c",
   "metadata": {},
   "source": [
    "check row where garage_yr_blt and garage_finish is null but garage_type is not null"
   ]
  },
  {
   "cell_type": "code",
   "execution_count": 76,
   "id": "ad4f1d9e",
   "metadata": {},
   "outputs": [
    {
     "data": {
      "text/html": [
       "<div>\n",
       "<style scoped>\n",
       "    .dataframe tbody tr th:only-of-type {\n",
       "        vertical-align: middle;\n",
       "    }\n",
       "\n",
       "    .dataframe tbody tr th {\n",
       "        vertical-align: top;\n",
       "    }\n",
       "\n",
       "    .dataframe thead th {\n",
       "        text-align: right;\n",
       "    }\n",
       "</style>\n",
       "<table border=\"1\" class=\"dataframe\">\n",
       "  <thead>\n",
       "    <tr style=\"text-align: right;\">\n",
       "      <th></th>\n",
       "      <th>garage_yr_blt</th>\n",
       "      <th>garage_finish</th>\n",
       "      <th>garage_type</th>\n",
       "    </tr>\n",
       "  </thead>\n",
       "  <tbody>\n",
       "    <tr>\n",
       "      <th>1711</th>\n",
       "      <td>NaN</td>\n",
       "      <td>NaN</td>\n",
       "      <td>Detchd</td>\n",
       "    </tr>\n",
       "  </tbody>\n",
       "</table>\n",
       "</div>"
      ],
      "text/plain": [
       "      garage_yr_blt garage_finish garage_type\n",
       "1711            NaN           NaN      Detchd"
      ]
     },
     "execution_count": 76,
     "metadata": {},
     "output_type": "execute_result"
    }
   ],
   "source": [
    "train.loc[(train['garage_yr_blt'].isnull())&(train['garage_finish'].isnull())\n",
    "          &(train['garage_type'].notna()),['garage_yr_blt','garage_finish','garage_type']]"
   ]
  },
  {
   "cell_type": "markdown",
   "id": "0ee7233d",
   "metadata": {},
   "source": [
    "Since row 1711 has a garage_type but no garage_yr_blt and garage_finish, row 1711 will be dropped from the dataframe"
   ]
  },
  {
   "cell_type": "code",
   "execution_count": 77,
   "id": "8b4fd347",
   "metadata": {},
   "outputs": [],
   "source": [
    "train = train.drop(1711).reset_index(drop=True)"
   ]
  },
  {
   "cell_type": "markdown",
   "id": "52c0458d",
   "metadata": {},
   "source": [
    "Now that the remaining null values of the garage series are all due to no garage, the null values will be replaced by no garage equivalent"
   ]
  },
  {
   "cell_type": "code",
   "execution_count": 78,
   "id": "0769ec4a",
   "metadata": {},
   "outputs": [],
   "source": [
    "values = {'garage_yr_blt': 0,\n",
    "          'garage_finish': 'NA',\n",
    "          'garage_qual': 'NA',\n",
    "          'garage_type': 'NA',\n",
    "          'garage_cond': 'NA'\n",
    "         }"
   ]
  },
  {
   "cell_type": "code",
   "execution_count": 79,
   "id": "493d2422",
   "metadata": {},
   "outputs": [],
   "source": [
    "train.fillna(value = values, inplace = True)"
   ]
  },
  {
   "cell_type": "code",
   "execution_count": 80,
   "id": "4c9c3573",
   "metadata": {},
   "outputs": [],
   "source": [
    "test.fillna(value = values, inplace = True)"
   ]
  },
  {
   "cell_type": "markdown",
   "id": "a04aa224",
   "metadata": {},
   "source": [
    "Check updated null values row for train "
   ]
  },
  {
   "cell_type": "code",
   "execution_count": 81,
   "id": "97079506",
   "metadata": {},
   "outputs": [
    {
     "data": {
      "text/plain": [
       "bsmt_exposure     58\n",
       "bsmtfin_type_2    56\n",
       "bsmt_qual         55\n",
       "bsmt_cond         55\n",
       "bsmtfin_type_1    55\n",
       "mas_vnr_type      21\n",
       "mas_vnr_area      21\n",
       "bsmt_full_bath     2\n",
       "bsmt_half_bath     2\n",
       "bsmtfin_sf_1       1\n",
       "bsmtfin_sf_2       1\n",
       "bsmt_unf_sf        1\n",
       "total_bsmt_sf      1\n",
       "gr_liv_area        0\n",
       "kitchen_abvgr      0\n",
       "dtype: int64"
      ]
     },
     "execution_count": 81,
     "metadata": {},
     "output_type": "execute_result"
    }
   ],
   "source": [
    "train.isnull().sum().sort_values(ascending=False).head(15)"
   ]
  },
  {
   "cell_type": "markdown",
   "id": "f831353e",
   "metadata": {},
   "source": [
    "### bsmt_unf_sf, total_bsmt_sf"
   ]
  },
  {
   "cell_type": "markdown",
   "id": "4e65ad92",
   "metadata": {},
   "source": [
    "bsmt_unf_sf is total_bsmt_sf minus(bsmtfin_sf_1 + bsmtfin_sf_2)"
   ]
  },
  {
   "cell_type": "code",
   "execution_count": 82,
   "id": "05883f3c",
   "metadata": {},
   "outputs": [
    {
     "data": {
      "text/html": [
       "<div>\n",
       "<style scoped>\n",
       "    .dataframe tbody tr th:only-of-type {\n",
       "        vertical-align: middle;\n",
       "    }\n",
       "\n",
       "    .dataframe tbody tr th {\n",
       "        vertical-align: top;\n",
       "    }\n",
       "\n",
       "    .dataframe thead th {\n",
       "        text-align: right;\n",
       "    }\n",
       "</style>\n",
       "<table border=\"1\" class=\"dataframe\">\n",
       "  <thead>\n",
       "    <tr style=\"text-align: right;\">\n",
       "      <th></th>\n",
       "      <th>bsmtfin_sf_1</th>\n",
       "      <th>bsmtfin_sf_2</th>\n",
       "      <th>total_bsmt_sf</th>\n",
       "      <th>bsmt_qual</th>\n",
       "      <th>bsmt_cond</th>\n",
       "      <th>bsmtfin_type_1</th>\n",
       "      <th>bsmtfin_sf_1</th>\n",
       "      <th>bsmt_half_bath</th>\n",
       "      <th>bsmt_full_bath</th>\n",
       "    </tr>\n",
       "  </thead>\n",
       "  <tbody>\n",
       "    <tr>\n",
       "      <th>1327</th>\n",
       "      <td>NaN</td>\n",
       "      <td>NaN</td>\n",
       "      <td>NaN</td>\n",
       "      <td>NaN</td>\n",
       "      <td>NaN</td>\n",
       "      <td>NaN</td>\n",
       "      <td>NaN</td>\n",
       "      <td>NaN</td>\n",
       "      <td>NaN</td>\n",
       "    </tr>\n",
       "  </tbody>\n",
       "</table>\n",
       "</div>"
      ],
      "text/plain": [
       "      bsmtfin_sf_1  bsmtfin_sf_2  total_bsmt_sf bsmt_qual bsmt_cond  \\\n",
       "1327           NaN           NaN            NaN       NaN       NaN   \n",
       "\n",
       "     bsmtfin_type_1  bsmtfin_sf_1  bsmt_half_bath  bsmt_full_bath  \n",
       "1327            NaN           NaN             NaN             NaN  "
      ]
     },
     "execution_count": 82,
     "metadata": {},
     "output_type": "execute_result"
    }
   ],
   "source": [
    "train.loc[train['bsmt_unf_sf'].isnull(),\n",
    "          ['bsmtfin_sf_1','bsmtfin_sf_2', 'total_bsmt_sf','bsmt_qual','bsmt_cond','bsmtfin_type_1','bsmtfin_sf_1',\n",
    "          'bsmt_half_bath', 'bsmt_full_bath']]"
   ]
  },
  {
   "cell_type": "markdown",
   "id": "50bcaf1a",
   "metadata": {},
   "source": [
    "Since there is no indicator on whether there is a basement for row 1327, in order to not fillna wrongly or introduce unverified features, row 1327 will be dropped to avoid errorneous imputing based on assumption"
   ]
  },
  {
   "cell_type": "code",
   "execution_count": 83,
   "id": "7c6e0d2a",
   "metadata": {},
   "outputs": [],
   "source": [
    "train=train.drop(1327).reset_index(drop=True)"
   ]
  },
  {
   "cell_type": "markdown",
   "id": "cb0e47d0",
   "metadata": {},
   "source": [
    "### bsmt_exposure"
   ]
  },
  {
   "cell_type": "markdown",
   "id": "8ab5afaf",
   "metadata": {},
   "source": [
    "Since there is no relation to bsmt_exposure for other features, null values for bsmt_exposure will be filled as 0"
   ]
  },
  {
   "cell_type": "code",
   "execution_count": 84,
   "id": "e82d004d",
   "metadata": {},
   "outputs": [],
   "source": [
    "train['bsmt_exposure'].fillna('NA', inplace=True)"
   ]
  },
  {
   "cell_type": "code",
   "execution_count": 85,
   "id": "3fa07ab7",
   "metadata": {},
   "outputs": [],
   "source": [
    "test['bsmt_exposure'].fillna('NA', inplace=True)"
   ]
  },
  {
   "cell_type": "markdown",
   "id": "58b7871e",
   "metadata": {},
   "source": [
    "### bsmtfin_type_1"
   ]
  },
  {
   "cell_type": "markdown",
   "id": "49a07347",
   "metadata": {},
   "source": [
    "bsmtfin_type_1 is the rating of basement finished area, if the bsmtfin_sf_1(type 1 finished square feet) is more than 0, bsmt_type_1 null values cannot be NA(no basement).  If bsmt_unf_sf is not zero, bsmtfin_type1 cannot be Unf(unfinished)"
   ]
  },
  {
   "cell_type": "code",
   "execution_count": 86,
   "id": "41b491ef",
   "metadata": {
    "scrolled": true
   },
   "outputs": [
    {
     "data": {
      "text/html": [
       "<div>\n",
       "<style scoped>\n",
       "    .dataframe tbody tr th:only-of-type {\n",
       "        vertical-align: middle;\n",
       "    }\n",
       "\n",
       "    .dataframe tbody tr th {\n",
       "        vertical-align: top;\n",
       "    }\n",
       "\n",
       "    .dataframe thead th {\n",
       "        text-align: right;\n",
       "    }\n",
       "</style>\n",
       "<table border=\"1\" class=\"dataframe\">\n",
       "  <thead>\n",
       "    <tr style=\"text-align: right;\">\n",
       "      <th></th>\n",
       "      <th>bsmtfin_type_1</th>\n",
       "      <th>bsmtfin_sf_1</th>\n",
       "      <th>bsmt_unf_sf</th>\n",
       "    </tr>\n",
       "  </thead>\n",
       "  <tbody>\n",
       "    <tr>\n",
       "      <th>12</th>\n",
       "      <td>NaN</td>\n",
       "      <td>0.0</td>\n",
       "      <td>0.0</td>\n",
       "    </tr>\n",
       "    <tr>\n",
       "      <th>93</th>\n",
       "      <td>NaN</td>\n",
       "      <td>0.0</td>\n",
       "      <td>0.0</td>\n",
       "    </tr>\n",
       "    <tr>\n",
       "      <th>114</th>\n",
       "      <td>NaN</td>\n",
       "      <td>0.0</td>\n",
       "      <td>0.0</td>\n",
       "    </tr>\n",
       "    <tr>\n",
       "      <th>146</th>\n",
       "      <td>NaN</td>\n",
       "      <td>0.0</td>\n",
       "      <td>0.0</td>\n",
       "    </tr>\n",
       "    <tr>\n",
       "      <th>183</th>\n",
       "      <td>NaN</td>\n",
       "      <td>0.0</td>\n",
       "      <td>0.0</td>\n",
       "    </tr>\n",
       "    <tr>\n",
       "      <th>240</th>\n",
       "      <td>NaN</td>\n",
       "      <td>0.0</td>\n",
       "      <td>0.0</td>\n",
       "    </tr>\n",
       "    <tr>\n",
       "      <th>249</th>\n",
       "      <td>NaN</td>\n",
       "      <td>0.0</td>\n",
       "      <td>0.0</td>\n",
       "    </tr>\n",
       "    <tr>\n",
       "      <th>256</th>\n",
       "      <td>NaN</td>\n",
       "      <td>0.0</td>\n",
       "      <td>0.0</td>\n",
       "    </tr>\n",
       "    <tr>\n",
       "      <th>390</th>\n",
       "      <td>NaN</td>\n",
       "      <td>0.0</td>\n",
       "      <td>0.0</td>\n",
       "    </tr>\n",
       "    <tr>\n",
       "      <th>437</th>\n",
       "      <td>NaN</td>\n",
       "      <td>0.0</td>\n",
       "      <td>0.0</td>\n",
       "    </tr>\n",
       "    <tr>\n",
       "      <th>485</th>\n",
       "      <td>NaN</td>\n",
       "      <td>0.0</td>\n",
       "      <td>0.0</td>\n",
       "    </tr>\n",
       "    <tr>\n",
       "      <th>499</th>\n",
       "      <td>NaN</td>\n",
       "      <td>0.0</td>\n",
       "      <td>0.0</td>\n",
       "    </tr>\n",
       "    <tr>\n",
       "      <th>514</th>\n",
       "      <td>NaN</td>\n",
       "      <td>0.0</td>\n",
       "      <td>0.0</td>\n",
       "    </tr>\n",
       "    <tr>\n",
       "      <th>580</th>\n",
       "      <td>NaN</td>\n",
       "      <td>0.0</td>\n",
       "      <td>0.0</td>\n",
       "    </tr>\n",
       "    <tr>\n",
       "      <th>581</th>\n",
       "      <td>NaN</td>\n",
       "      <td>0.0</td>\n",
       "      <td>0.0</td>\n",
       "    </tr>\n",
       "    <tr>\n",
       "      <th>616</th>\n",
       "      <td>NaN</td>\n",
       "      <td>0.0</td>\n",
       "      <td>0.0</td>\n",
       "    </tr>\n",
       "    <tr>\n",
       "      <th>635</th>\n",
       "      <td>NaN</td>\n",
       "      <td>0.0</td>\n",
       "      <td>0.0</td>\n",
       "    </tr>\n",
       "    <tr>\n",
       "      <th>642</th>\n",
       "      <td>NaN</td>\n",
       "      <td>0.0</td>\n",
       "      <td>0.0</td>\n",
       "    </tr>\n",
       "    <tr>\n",
       "      <th>696</th>\n",
       "      <td>NaN</td>\n",
       "      <td>0.0</td>\n",
       "      <td>0.0</td>\n",
       "    </tr>\n",
       "    <tr>\n",
       "      <th>700</th>\n",
       "      <td>NaN</td>\n",
       "      <td>0.0</td>\n",
       "      <td>0.0</td>\n",
       "    </tr>\n",
       "    <tr>\n",
       "      <th>737</th>\n",
       "      <td>NaN</td>\n",
       "      <td>0.0</td>\n",
       "      <td>0.0</td>\n",
       "    </tr>\n",
       "    <tr>\n",
       "      <th>772</th>\n",
       "      <td>NaN</td>\n",
       "      <td>0.0</td>\n",
       "      <td>0.0</td>\n",
       "    </tr>\n",
       "    <tr>\n",
       "      <th>790</th>\n",
       "      <td>NaN</td>\n",
       "      <td>0.0</td>\n",
       "      <td>0.0</td>\n",
       "    </tr>\n",
       "    <tr>\n",
       "      <th>794</th>\n",
       "      <td>NaN</td>\n",
       "      <td>0.0</td>\n",
       "      <td>0.0</td>\n",
       "    </tr>\n",
       "    <tr>\n",
       "      <th>924</th>\n",
       "      <td>NaN</td>\n",
       "      <td>0.0</td>\n",
       "      <td>0.0</td>\n",
       "    </tr>\n",
       "    <tr>\n",
       "      <th>933</th>\n",
       "      <td>NaN</td>\n",
       "      <td>0.0</td>\n",
       "      <td>0.0</td>\n",
       "    </tr>\n",
       "    <tr>\n",
       "      <th>954</th>\n",
       "      <td>NaN</td>\n",
       "      <td>0.0</td>\n",
       "      <td>0.0</td>\n",
       "    </tr>\n",
       "    <tr>\n",
       "      <th>1007</th>\n",
       "      <td>NaN</td>\n",
       "      <td>0.0</td>\n",
       "      <td>0.0</td>\n",
       "    </tr>\n",
       "    <tr>\n",
       "      <th>1022</th>\n",
       "      <td>NaN</td>\n",
       "      <td>0.0</td>\n",
       "      <td>0.0</td>\n",
       "    </tr>\n",
       "    <tr>\n",
       "      <th>1049</th>\n",
       "      <td>NaN</td>\n",
       "      <td>0.0</td>\n",
       "      <td>0.0</td>\n",
       "    </tr>\n",
       "    <tr>\n",
       "      <th>1089</th>\n",
       "      <td>NaN</td>\n",
       "      <td>0.0</td>\n",
       "      <td>0.0</td>\n",
       "    </tr>\n",
       "    <tr>\n",
       "      <th>1098</th>\n",
       "      <td>NaN</td>\n",
       "      <td>0.0</td>\n",
       "      <td>0.0</td>\n",
       "    </tr>\n",
       "    <tr>\n",
       "      <th>1125</th>\n",
       "      <td>NaN</td>\n",
       "      <td>0.0</td>\n",
       "      <td>0.0</td>\n",
       "    </tr>\n",
       "    <tr>\n",
       "      <th>1157</th>\n",
       "      <td>NaN</td>\n",
       "      <td>0.0</td>\n",
       "      <td>0.0</td>\n",
       "    </tr>\n",
       "    <tr>\n",
       "      <th>1211</th>\n",
       "      <td>NaN</td>\n",
       "      <td>0.0</td>\n",
       "      <td>0.0</td>\n",
       "    </tr>\n",
       "    <tr>\n",
       "      <th>1222</th>\n",
       "      <td>NaN</td>\n",
       "      <td>0.0</td>\n",
       "      <td>0.0</td>\n",
       "    </tr>\n",
       "    <tr>\n",
       "      <th>1252</th>\n",
       "      <td>NaN</td>\n",
       "      <td>0.0</td>\n",
       "      <td>0.0</td>\n",
       "    </tr>\n",
       "    <tr>\n",
       "      <th>1256</th>\n",
       "      <td>NaN</td>\n",
       "      <td>0.0</td>\n",
       "      <td>0.0</td>\n",
       "    </tr>\n",
       "    <tr>\n",
       "      <th>1270</th>\n",
       "      <td>NaN</td>\n",
       "      <td>0.0</td>\n",
       "      <td>0.0</td>\n",
       "    </tr>\n",
       "    <tr>\n",
       "      <th>1330</th>\n",
       "      <td>NaN</td>\n",
       "      <td>0.0</td>\n",
       "      <td>0.0</td>\n",
       "    </tr>\n",
       "    <tr>\n",
       "      <th>1376</th>\n",
       "      <td>NaN</td>\n",
       "      <td>0.0</td>\n",
       "      <td>0.0</td>\n",
       "    </tr>\n",
       "    <tr>\n",
       "      <th>1386</th>\n",
       "      <td>NaN</td>\n",
       "      <td>0.0</td>\n",
       "      <td>0.0</td>\n",
       "    </tr>\n",
       "    <tr>\n",
       "      <th>1427</th>\n",
       "      <td>NaN</td>\n",
       "      <td>0.0</td>\n",
       "      <td>0.0</td>\n",
       "    </tr>\n",
       "    <tr>\n",
       "      <th>1480</th>\n",
       "      <td>NaN</td>\n",
       "      <td>0.0</td>\n",
       "      <td>0.0</td>\n",
       "    </tr>\n",
       "    <tr>\n",
       "      <th>1593</th>\n",
       "      <td>NaN</td>\n",
       "      <td>0.0</td>\n",
       "      <td>0.0</td>\n",
       "    </tr>\n",
       "    <tr>\n",
       "      <th>1619</th>\n",
       "      <td>NaN</td>\n",
       "      <td>0.0</td>\n",
       "      <td>0.0</td>\n",
       "    </tr>\n",
       "    <tr>\n",
       "      <th>1680</th>\n",
       "      <td>NaN</td>\n",
       "      <td>0.0</td>\n",
       "      <td>0.0</td>\n",
       "    </tr>\n",
       "    <tr>\n",
       "      <th>1683</th>\n",
       "      <td>NaN</td>\n",
       "      <td>0.0</td>\n",
       "      <td>0.0</td>\n",
       "    </tr>\n",
       "    <tr>\n",
       "      <th>1685</th>\n",
       "      <td>NaN</td>\n",
       "      <td>0.0</td>\n",
       "      <td>0.0</td>\n",
       "    </tr>\n",
       "    <tr>\n",
       "      <th>1856</th>\n",
       "      <td>NaN</td>\n",
       "      <td>0.0</td>\n",
       "      <td>0.0</td>\n",
       "    </tr>\n",
       "    <tr>\n",
       "      <th>1872</th>\n",
       "      <td>NaN</td>\n",
       "      <td>0.0</td>\n",
       "      <td>0.0</td>\n",
       "    </tr>\n",
       "    <tr>\n",
       "      <th>1886</th>\n",
       "      <td>NaN</td>\n",
       "      <td>0.0</td>\n",
       "      <td>0.0</td>\n",
       "    </tr>\n",
       "    <tr>\n",
       "      <th>1930</th>\n",
       "      <td>NaN</td>\n",
       "      <td>0.0</td>\n",
       "      <td>0.0</td>\n",
       "    </tr>\n",
       "    <tr>\n",
       "      <th>2007</th>\n",
       "      <td>NaN</td>\n",
       "      <td>0.0</td>\n",
       "      <td>0.0</td>\n",
       "    </tr>\n",
       "  </tbody>\n",
       "</table>\n",
       "</div>"
      ],
      "text/plain": [
       "     bsmtfin_type_1  bsmtfin_sf_1  bsmt_unf_sf\n",
       "12              NaN           0.0          0.0\n",
       "93              NaN           0.0          0.0\n",
       "114             NaN           0.0          0.0\n",
       "146             NaN           0.0          0.0\n",
       "183             NaN           0.0          0.0\n",
       "240             NaN           0.0          0.0\n",
       "249             NaN           0.0          0.0\n",
       "256             NaN           0.0          0.0\n",
       "390             NaN           0.0          0.0\n",
       "437             NaN           0.0          0.0\n",
       "485             NaN           0.0          0.0\n",
       "499             NaN           0.0          0.0\n",
       "514             NaN           0.0          0.0\n",
       "580             NaN           0.0          0.0\n",
       "581             NaN           0.0          0.0\n",
       "616             NaN           0.0          0.0\n",
       "635             NaN           0.0          0.0\n",
       "642             NaN           0.0          0.0\n",
       "696             NaN           0.0          0.0\n",
       "700             NaN           0.0          0.0\n",
       "737             NaN           0.0          0.0\n",
       "772             NaN           0.0          0.0\n",
       "790             NaN           0.0          0.0\n",
       "794             NaN           0.0          0.0\n",
       "924             NaN           0.0          0.0\n",
       "933             NaN           0.0          0.0\n",
       "954             NaN           0.0          0.0\n",
       "1007            NaN           0.0          0.0\n",
       "1022            NaN           0.0          0.0\n",
       "1049            NaN           0.0          0.0\n",
       "1089            NaN           0.0          0.0\n",
       "1098            NaN           0.0          0.0\n",
       "1125            NaN           0.0          0.0\n",
       "1157            NaN           0.0          0.0\n",
       "1211            NaN           0.0          0.0\n",
       "1222            NaN           0.0          0.0\n",
       "1252            NaN           0.0          0.0\n",
       "1256            NaN           0.0          0.0\n",
       "1270            NaN           0.0          0.0\n",
       "1330            NaN           0.0          0.0\n",
       "1376            NaN           0.0          0.0\n",
       "1386            NaN           0.0          0.0\n",
       "1427            NaN           0.0          0.0\n",
       "1480            NaN           0.0          0.0\n",
       "1593            NaN           0.0          0.0\n",
       "1619            NaN           0.0          0.0\n",
       "1680            NaN           0.0          0.0\n",
       "1683            NaN           0.0          0.0\n",
       "1685            NaN           0.0          0.0\n",
       "1856            NaN           0.0          0.0\n",
       "1872            NaN           0.0          0.0\n",
       "1886            NaN           0.0          0.0\n",
       "1930            NaN           0.0          0.0\n",
       "2007            NaN           0.0          0.0"
      ]
     },
     "execution_count": 86,
     "metadata": {},
     "output_type": "execute_result"
    }
   ],
   "source": [
    "train.loc[train['bsmtfin_type_1'].isnull(),['bsmtfin_type_1', 'bsmtfin_sf_1','bsmt_unf_sf']]"
   ]
  },
  {
   "cell_type": "markdown",
   "id": "aed55810",
   "metadata": {},
   "source": [
    "check for basement condition for row with null values of both bsmtfin_type_1 and bsmt_sf_1"
   ]
  },
  {
   "cell_type": "code",
   "execution_count": 87,
   "id": "0a4be52b",
   "metadata": {
    "scrolled": false
   },
   "outputs": [
    {
     "data": {
      "text/html": [
       "<div>\n",
       "<style scoped>\n",
       "    .dataframe tbody tr th:only-of-type {\n",
       "        vertical-align: middle;\n",
       "    }\n",
       "\n",
       "    .dataframe tbody tr th {\n",
       "        vertical-align: top;\n",
       "    }\n",
       "\n",
       "    .dataframe thead th {\n",
       "        text-align: right;\n",
       "    }\n",
       "</style>\n",
       "<table border=\"1\" class=\"dataframe\">\n",
       "  <thead>\n",
       "    <tr style=\"text-align: right;\">\n",
       "      <th></th>\n",
       "      <th>bsmtfin_type_1</th>\n",
       "      <th>bsmtfin_sf_1</th>\n",
       "      <th>bsmt_cond</th>\n",
       "    </tr>\n",
       "  </thead>\n",
       "  <tbody>\n",
       "  </tbody>\n",
       "</table>\n",
       "</div>"
      ],
      "text/plain": [
       "Empty DataFrame\n",
       "Columns: [bsmtfin_type_1, bsmtfin_sf_1, bsmt_cond]\n",
       "Index: []"
      ]
     },
     "execution_count": 87,
     "metadata": {},
     "output_type": "execute_result"
    }
   ],
   "source": [
    "train.loc[(train['bsmtfin_type_1'].isnull())&(train['bsmtfin_sf_1'].isnull()),['bsmtfin_type_1', 'bsmtfin_sf_1','bsmt_cond']]"
   ]
  },
  {
   "cell_type": "markdown",
   "id": "30b209eb",
   "metadata": {},
   "source": [
    "none of the bsmtfin_type_1 null values row are within properties with basement, these null values will be replaced by NA"
   ]
  },
  {
   "cell_type": "code",
   "execution_count": 88,
   "id": "5e6bceec",
   "metadata": {},
   "outputs": [],
   "source": [
    "train['bsmtfin_type_1'].fillna('NA', inplace=True)"
   ]
  },
  {
   "cell_type": "code",
   "execution_count": 89,
   "id": "aa4e09bc",
   "metadata": {},
   "outputs": [],
   "source": [
    "test['bsmtfin_type_1'].fillna('NA', inplace=True)"
   ]
  },
  {
   "cell_type": "markdown",
   "id": "88f9108a",
   "metadata": {},
   "source": [
    "### bsmtfin_type_2"
   ]
  },
  {
   "cell_type": "markdown",
   "id": "dbd4bd5e",
   "metadata": {},
   "source": [
    "bsmtfin_type_2 is the rating of basement finished area, if the bsmtfin_sf_2(type 2 finished square feet) is more than 0, bsmt_type_2 null values cannot be NA(no basement). If bsmt_unf_sf is not zero, bsmtfin_type1 cannot be Unf(unfinished)"
   ]
  },
  {
   "cell_type": "code",
   "execution_count": 90,
   "id": "344306f1",
   "metadata": {
    "scrolled": true
   },
   "outputs": [
    {
     "data": {
      "text/html": [
       "<div>\n",
       "<style scoped>\n",
       "    .dataframe tbody tr th:only-of-type {\n",
       "        vertical-align: middle;\n",
       "    }\n",
       "\n",
       "    .dataframe tbody tr th {\n",
       "        vertical-align: top;\n",
       "    }\n",
       "\n",
       "    .dataframe thead th {\n",
       "        text-align: right;\n",
       "    }\n",
       "</style>\n",
       "<table border=\"1\" class=\"dataframe\">\n",
       "  <thead>\n",
       "    <tr style=\"text-align: right;\">\n",
       "      <th></th>\n",
       "      <th>bsmtfin_type_2</th>\n",
       "      <th>bsmtfin_sf_2</th>\n",
       "      <th>bsmt_unf_sf</th>\n",
       "    </tr>\n",
       "  </thead>\n",
       "  <tbody>\n",
       "    <tr>\n",
       "      <th>12</th>\n",
       "      <td>NaN</td>\n",
       "      <td>0.0</td>\n",
       "      <td>0.0</td>\n",
       "    </tr>\n",
       "    <tr>\n",
       "      <th>93</th>\n",
       "      <td>NaN</td>\n",
       "      <td>0.0</td>\n",
       "      <td>0.0</td>\n",
       "    </tr>\n",
       "    <tr>\n",
       "      <th>114</th>\n",
       "      <td>NaN</td>\n",
       "      <td>0.0</td>\n",
       "      <td>0.0</td>\n",
       "    </tr>\n",
       "    <tr>\n",
       "      <th>146</th>\n",
       "      <td>NaN</td>\n",
       "      <td>0.0</td>\n",
       "      <td>0.0</td>\n",
       "    </tr>\n",
       "    <tr>\n",
       "      <th>183</th>\n",
       "      <td>NaN</td>\n",
       "      <td>0.0</td>\n",
       "      <td>0.0</td>\n",
       "    </tr>\n",
       "    <tr>\n",
       "      <th>240</th>\n",
       "      <td>NaN</td>\n",
       "      <td>0.0</td>\n",
       "      <td>0.0</td>\n",
       "    </tr>\n",
       "    <tr>\n",
       "      <th>249</th>\n",
       "      <td>NaN</td>\n",
       "      <td>0.0</td>\n",
       "      <td>0.0</td>\n",
       "    </tr>\n",
       "    <tr>\n",
       "      <th>256</th>\n",
       "      <td>NaN</td>\n",
       "      <td>0.0</td>\n",
       "      <td>0.0</td>\n",
       "    </tr>\n",
       "    <tr>\n",
       "      <th>390</th>\n",
       "      <td>NaN</td>\n",
       "      <td>0.0</td>\n",
       "      <td>0.0</td>\n",
       "    </tr>\n",
       "    <tr>\n",
       "      <th>437</th>\n",
       "      <td>NaN</td>\n",
       "      <td>0.0</td>\n",
       "      <td>0.0</td>\n",
       "    </tr>\n",
       "    <tr>\n",
       "      <th>485</th>\n",
       "      <td>NaN</td>\n",
       "      <td>0.0</td>\n",
       "      <td>0.0</td>\n",
       "    </tr>\n",
       "    <tr>\n",
       "      <th>499</th>\n",
       "      <td>NaN</td>\n",
       "      <td>0.0</td>\n",
       "      <td>0.0</td>\n",
       "    </tr>\n",
       "    <tr>\n",
       "      <th>514</th>\n",
       "      <td>NaN</td>\n",
       "      <td>0.0</td>\n",
       "      <td>0.0</td>\n",
       "    </tr>\n",
       "    <tr>\n",
       "      <th>580</th>\n",
       "      <td>NaN</td>\n",
       "      <td>0.0</td>\n",
       "      <td>0.0</td>\n",
       "    </tr>\n",
       "    <tr>\n",
       "      <th>581</th>\n",
       "      <td>NaN</td>\n",
       "      <td>0.0</td>\n",
       "      <td>0.0</td>\n",
       "    </tr>\n",
       "    <tr>\n",
       "      <th>616</th>\n",
       "      <td>NaN</td>\n",
       "      <td>0.0</td>\n",
       "      <td>0.0</td>\n",
       "    </tr>\n",
       "    <tr>\n",
       "      <th>635</th>\n",
       "      <td>NaN</td>\n",
       "      <td>0.0</td>\n",
       "      <td>0.0</td>\n",
       "    </tr>\n",
       "    <tr>\n",
       "      <th>642</th>\n",
       "      <td>NaN</td>\n",
       "      <td>0.0</td>\n",
       "      <td>0.0</td>\n",
       "    </tr>\n",
       "    <tr>\n",
       "      <th>696</th>\n",
       "      <td>NaN</td>\n",
       "      <td>0.0</td>\n",
       "      <td>0.0</td>\n",
       "    </tr>\n",
       "    <tr>\n",
       "      <th>700</th>\n",
       "      <td>NaN</td>\n",
       "      <td>0.0</td>\n",
       "      <td>0.0</td>\n",
       "    </tr>\n",
       "    <tr>\n",
       "      <th>737</th>\n",
       "      <td>NaN</td>\n",
       "      <td>0.0</td>\n",
       "      <td>0.0</td>\n",
       "    </tr>\n",
       "    <tr>\n",
       "      <th>772</th>\n",
       "      <td>NaN</td>\n",
       "      <td>0.0</td>\n",
       "      <td>0.0</td>\n",
       "    </tr>\n",
       "    <tr>\n",
       "      <th>790</th>\n",
       "      <td>NaN</td>\n",
       "      <td>0.0</td>\n",
       "      <td>0.0</td>\n",
       "    </tr>\n",
       "    <tr>\n",
       "      <th>794</th>\n",
       "      <td>NaN</td>\n",
       "      <td>0.0</td>\n",
       "      <td>0.0</td>\n",
       "    </tr>\n",
       "    <tr>\n",
       "      <th>924</th>\n",
       "      <td>NaN</td>\n",
       "      <td>0.0</td>\n",
       "      <td>0.0</td>\n",
       "    </tr>\n",
       "    <tr>\n",
       "      <th>933</th>\n",
       "      <td>NaN</td>\n",
       "      <td>0.0</td>\n",
       "      <td>0.0</td>\n",
       "    </tr>\n",
       "    <tr>\n",
       "      <th>954</th>\n",
       "      <td>NaN</td>\n",
       "      <td>0.0</td>\n",
       "      <td>0.0</td>\n",
       "    </tr>\n",
       "    <tr>\n",
       "      <th>1007</th>\n",
       "      <td>NaN</td>\n",
       "      <td>0.0</td>\n",
       "      <td>0.0</td>\n",
       "    </tr>\n",
       "    <tr>\n",
       "      <th>1022</th>\n",
       "      <td>NaN</td>\n",
       "      <td>0.0</td>\n",
       "      <td>0.0</td>\n",
       "    </tr>\n",
       "    <tr>\n",
       "      <th>1049</th>\n",
       "      <td>NaN</td>\n",
       "      <td>0.0</td>\n",
       "      <td>0.0</td>\n",
       "    </tr>\n",
       "    <tr>\n",
       "      <th>1089</th>\n",
       "      <td>NaN</td>\n",
       "      <td>0.0</td>\n",
       "      <td>0.0</td>\n",
       "    </tr>\n",
       "    <tr>\n",
       "      <th>1098</th>\n",
       "      <td>NaN</td>\n",
       "      <td>0.0</td>\n",
       "      <td>0.0</td>\n",
       "    </tr>\n",
       "    <tr>\n",
       "      <th>1125</th>\n",
       "      <td>NaN</td>\n",
       "      <td>0.0</td>\n",
       "      <td>0.0</td>\n",
       "    </tr>\n",
       "    <tr>\n",
       "      <th>1147</th>\n",
       "      <td>NaN</td>\n",
       "      <td>479.0</td>\n",
       "      <td>1603.0</td>\n",
       "    </tr>\n",
       "    <tr>\n",
       "      <th>1157</th>\n",
       "      <td>NaN</td>\n",
       "      <td>0.0</td>\n",
       "      <td>0.0</td>\n",
       "    </tr>\n",
       "    <tr>\n",
       "      <th>1211</th>\n",
       "      <td>NaN</td>\n",
       "      <td>0.0</td>\n",
       "      <td>0.0</td>\n",
       "    </tr>\n",
       "    <tr>\n",
       "      <th>1222</th>\n",
       "      <td>NaN</td>\n",
       "      <td>0.0</td>\n",
       "      <td>0.0</td>\n",
       "    </tr>\n",
       "    <tr>\n",
       "      <th>1252</th>\n",
       "      <td>NaN</td>\n",
       "      <td>0.0</td>\n",
       "      <td>0.0</td>\n",
       "    </tr>\n",
       "    <tr>\n",
       "      <th>1256</th>\n",
       "      <td>NaN</td>\n",
       "      <td>0.0</td>\n",
       "      <td>0.0</td>\n",
       "    </tr>\n",
       "    <tr>\n",
       "      <th>1270</th>\n",
       "      <td>NaN</td>\n",
       "      <td>0.0</td>\n",
       "      <td>0.0</td>\n",
       "    </tr>\n",
       "    <tr>\n",
       "      <th>1330</th>\n",
       "      <td>NaN</td>\n",
       "      <td>0.0</td>\n",
       "      <td>0.0</td>\n",
       "    </tr>\n",
       "    <tr>\n",
       "      <th>1376</th>\n",
       "      <td>NaN</td>\n",
       "      <td>0.0</td>\n",
       "      <td>0.0</td>\n",
       "    </tr>\n",
       "    <tr>\n",
       "      <th>1386</th>\n",
       "      <td>NaN</td>\n",
       "      <td>0.0</td>\n",
       "      <td>0.0</td>\n",
       "    </tr>\n",
       "    <tr>\n",
       "      <th>1427</th>\n",
       "      <td>NaN</td>\n",
       "      <td>0.0</td>\n",
       "      <td>0.0</td>\n",
       "    </tr>\n",
       "    <tr>\n",
       "      <th>1480</th>\n",
       "      <td>NaN</td>\n",
       "      <td>0.0</td>\n",
       "      <td>0.0</td>\n",
       "    </tr>\n",
       "    <tr>\n",
       "      <th>1593</th>\n",
       "      <td>NaN</td>\n",
       "      <td>0.0</td>\n",
       "      <td>0.0</td>\n",
       "    </tr>\n",
       "    <tr>\n",
       "      <th>1619</th>\n",
       "      <td>NaN</td>\n",
       "      <td>0.0</td>\n",
       "      <td>0.0</td>\n",
       "    </tr>\n",
       "    <tr>\n",
       "      <th>1680</th>\n",
       "      <td>NaN</td>\n",
       "      <td>0.0</td>\n",
       "      <td>0.0</td>\n",
       "    </tr>\n",
       "    <tr>\n",
       "      <th>1683</th>\n",
       "      <td>NaN</td>\n",
       "      <td>0.0</td>\n",
       "      <td>0.0</td>\n",
       "    </tr>\n",
       "    <tr>\n",
       "      <th>1685</th>\n",
       "      <td>NaN</td>\n",
       "      <td>0.0</td>\n",
       "      <td>0.0</td>\n",
       "    </tr>\n",
       "    <tr>\n",
       "      <th>1856</th>\n",
       "      <td>NaN</td>\n",
       "      <td>0.0</td>\n",
       "      <td>0.0</td>\n",
       "    </tr>\n",
       "    <tr>\n",
       "      <th>1872</th>\n",
       "      <td>NaN</td>\n",
       "      <td>0.0</td>\n",
       "      <td>0.0</td>\n",
       "    </tr>\n",
       "    <tr>\n",
       "      <th>1886</th>\n",
       "      <td>NaN</td>\n",
       "      <td>0.0</td>\n",
       "      <td>0.0</td>\n",
       "    </tr>\n",
       "    <tr>\n",
       "      <th>1930</th>\n",
       "      <td>NaN</td>\n",
       "      <td>0.0</td>\n",
       "      <td>0.0</td>\n",
       "    </tr>\n",
       "    <tr>\n",
       "      <th>2007</th>\n",
       "      <td>NaN</td>\n",
       "      <td>0.0</td>\n",
       "      <td>0.0</td>\n",
       "    </tr>\n",
       "  </tbody>\n",
       "</table>\n",
       "</div>"
      ],
      "text/plain": [
       "     bsmtfin_type_2  bsmtfin_sf_2  bsmt_unf_sf\n",
       "12              NaN           0.0          0.0\n",
       "93              NaN           0.0          0.0\n",
       "114             NaN           0.0          0.0\n",
       "146             NaN           0.0          0.0\n",
       "183             NaN           0.0          0.0\n",
       "240             NaN           0.0          0.0\n",
       "249             NaN           0.0          0.0\n",
       "256             NaN           0.0          0.0\n",
       "390             NaN           0.0          0.0\n",
       "437             NaN           0.0          0.0\n",
       "485             NaN           0.0          0.0\n",
       "499             NaN           0.0          0.0\n",
       "514             NaN           0.0          0.0\n",
       "580             NaN           0.0          0.0\n",
       "581             NaN           0.0          0.0\n",
       "616             NaN           0.0          0.0\n",
       "635             NaN           0.0          0.0\n",
       "642             NaN           0.0          0.0\n",
       "696             NaN           0.0          0.0\n",
       "700             NaN           0.0          0.0\n",
       "737             NaN           0.0          0.0\n",
       "772             NaN           0.0          0.0\n",
       "790             NaN           0.0          0.0\n",
       "794             NaN           0.0          0.0\n",
       "924             NaN           0.0          0.0\n",
       "933             NaN           0.0          0.0\n",
       "954             NaN           0.0          0.0\n",
       "1007            NaN           0.0          0.0\n",
       "1022            NaN           0.0          0.0\n",
       "1049            NaN           0.0          0.0\n",
       "1089            NaN           0.0          0.0\n",
       "1098            NaN           0.0          0.0\n",
       "1125            NaN           0.0          0.0\n",
       "1147            NaN         479.0       1603.0\n",
       "1157            NaN           0.0          0.0\n",
       "1211            NaN           0.0          0.0\n",
       "1222            NaN           0.0          0.0\n",
       "1252            NaN           0.0          0.0\n",
       "1256            NaN           0.0          0.0\n",
       "1270            NaN           0.0          0.0\n",
       "1330            NaN           0.0          0.0\n",
       "1376            NaN           0.0          0.0\n",
       "1386            NaN           0.0          0.0\n",
       "1427            NaN           0.0          0.0\n",
       "1480            NaN           0.0          0.0\n",
       "1593            NaN           0.0          0.0\n",
       "1619            NaN           0.0          0.0\n",
       "1680            NaN           0.0          0.0\n",
       "1683            NaN           0.0          0.0\n",
       "1685            NaN           0.0          0.0\n",
       "1856            NaN           0.0          0.0\n",
       "1872            NaN           0.0          0.0\n",
       "1886            NaN           0.0          0.0\n",
       "1930            NaN           0.0          0.0\n",
       "2007            NaN           0.0          0.0"
      ]
     },
     "execution_count": 90,
     "metadata": {},
     "output_type": "execute_result"
    }
   ],
   "source": [
    "train.loc[train['bsmtfin_type_2'].isnull(),['bsmtfin_type_2', 'bsmtfin_sf_2','bsmt_unf_sf']]"
   ]
  },
  {
   "cell_type": "markdown",
   "id": "18646b27",
   "metadata": {},
   "source": [
    "There is a row where bsmt_type_2 is null but bsmt_fin_sf_2 is not null. "
   ]
  },
  {
   "cell_type": "code",
   "execution_count": 91,
   "id": "88a2da0f",
   "metadata": {},
   "outputs": [
    {
     "data": {
      "text/html": [
       "<div>\n",
       "<style scoped>\n",
       "    .dataframe tbody tr th:only-of-type {\n",
       "        vertical-align: middle;\n",
       "    }\n",
       "\n",
       "    .dataframe tbody tr th {\n",
       "        vertical-align: top;\n",
       "    }\n",
       "\n",
       "    .dataframe thead th {\n",
       "        text-align: right;\n",
       "    }\n",
       "</style>\n",
       "<table border=\"1\" class=\"dataframe\">\n",
       "  <thead>\n",
       "    <tr style=\"text-align: right;\">\n",
       "      <th></th>\n",
       "      <th>bsmtfin_type_2</th>\n",
       "      <th>bsmtfin_sf_2</th>\n",
       "    </tr>\n",
       "  </thead>\n",
       "  <tbody>\n",
       "    <tr>\n",
       "      <th>1147</th>\n",
       "      <td>NaN</td>\n",
       "      <td>479.0</td>\n",
       "    </tr>\n",
       "  </tbody>\n",
       "</table>\n",
       "</div>"
      ],
      "text/plain": [
       "     bsmtfin_type_2  bsmtfin_sf_2\n",
       "1147            NaN         479.0"
      ]
     },
     "execution_count": 91,
     "metadata": {},
     "output_type": "execute_result"
    }
   ],
   "source": [
    "train.loc[train['bsmtfin_sf_2'] == 479,['bsmtfin_type_2', 'bsmtfin_sf_2']]"
   ]
  },
  {
   "cell_type": "markdown",
   "id": "130e438b",
   "metadata": {},
   "source": [
    "finding out mode for basmtfin_type_2, for bsmtfin_sf_2 rows where there is no null values"
   ]
  },
  {
   "cell_type": "code",
   "execution_count": 92,
   "id": "98923c7a",
   "metadata": {
    "scrolled": true
   },
   "outputs": [
    {
     "data": {
      "text/plain": [
       "0    Rec\n",
       "dtype: object"
      ]
     },
     "execution_count": 92,
     "metadata": {},
     "output_type": "execute_result"
    }
   ],
   "source": [
    "train.loc[(train['bsmtfin_type_2']!='Unf')&(train['bsmtfin_type_2'].notna())&(train['bsmtfin_type_2'].notna()) ,'bsmtfin_type_2'].mode()"
   ]
  },
  {
   "cell_type": "markdown",
   "id": "04936b51",
   "metadata": {},
   "source": [
    "Assigning Rec to null value of bsmt_type_2 for row 1147"
   ]
  },
  {
   "cell_type": "code",
   "execution_count": 93,
   "id": "a20a022c",
   "metadata": {},
   "outputs": [],
   "source": [
    "train.loc[train['bsmtfin_sf_2'] == 479,'bsmtfin_type_2']='Unf'"
   ]
  },
  {
   "cell_type": "markdown",
   "id": "2afe1bf0",
   "metadata": {},
   "source": [
    "Assingning NA(no basement for type2) for remaining nan values"
   ]
  },
  {
   "cell_type": "code",
   "execution_count": 94,
   "id": "04601f5e",
   "metadata": {},
   "outputs": [],
   "source": [
    "train['bsmtfin_type_2'].fillna('NA',inplace = True)"
   ]
  },
  {
   "cell_type": "code",
   "execution_count": 95,
   "id": "48c84b3b",
   "metadata": {},
   "outputs": [],
   "source": [
    "test['bsmtfin_type_2'].fillna('NA',inplace = True)"
   ]
  },
  {
   "cell_type": "markdown",
   "id": "bef654d9",
   "metadata": {},
   "source": [
    "### bsmt_cond"
   ]
  },
  {
   "cell_type": "markdown",
   "id": "d3216308",
   "metadata": {},
   "source": [
    "null values of bsmt_cond cannot be NA(no basement) if bsmtfin_type_1 is not NA"
   ]
  },
  {
   "cell_type": "code",
   "execution_count": 96,
   "id": "2678e1d7",
   "metadata": {
    "scrolled": false
   },
   "outputs": [
    {
     "data": {
      "text/html": [
       "<div>\n",
       "<style scoped>\n",
       "    .dataframe tbody tr th:only-of-type {\n",
       "        vertical-align: middle;\n",
       "    }\n",
       "\n",
       "    .dataframe tbody tr th {\n",
       "        vertical-align: top;\n",
       "    }\n",
       "\n",
       "    .dataframe thead th {\n",
       "        text-align: right;\n",
       "    }\n",
       "</style>\n",
       "<table border=\"1\" class=\"dataframe\">\n",
       "  <thead>\n",
       "    <tr style=\"text-align: right;\">\n",
       "      <th></th>\n",
       "      <th>bsmt_cond</th>\n",
       "      <th>bsmtfin_type_1</th>\n",
       "    </tr>\n",
       "  </thead>\n",
       "  <tbody>\n",
       "  </tbody>\n",
       "</table>\n",
       "</div>"
      ],
      "text/plain": [
       "Empty DataFrame\n",
       "Columns: [bsmt_cond, bsmtfin_type_1]\n",
       "Index: []"
      ]
     },
     "execution_count": 96,
     "metadata": {},
     "output_type": "execute_result"
    }
   ],
   "source": [
    "train.loc[(train['bsmt_cond'].isnull()) & (train['bsmtfin_type_1']!= 'NA'),['bsmt_cond','bsmtfin_type_1']]"
   ]
  },
  {
   "cell_type": "code",
   "execution_count": 97,
   "id": "72b906c1",
   "metadata": {
    "scrolled": true
   },
   "outputs": [
    {
     "data": {
      "text/html": [
       "<div>\n",
       "<style scoped>\n",
       "    .dataframe tbody tr th:only-of-type {\n",
       "        vertical-align: middle;\n",
       "    }\n",
       "\n",
       "    .dataframe tbody tr th {\n",
       "        vertical-align: top;\n",
       "    }\n",
       "\n",
       "    .dataframe thead th {\n",
       "        text-align: right;\n",
       "    }\n",
       "</style>\n",
       "<table border=\"1\" class=\"dataframe\">\n",
       "  <thead>\n",
       "    <tr style=\"text-align: right;\">\n",
       "      <th></th>\n",
       "      <th>bsmt_cond</th>\n",
       "      <th>bsmtfin_type_1</th>\n",
       "    </tr>\n",
       "  </thead>\n",
       "  <tbody>\n",
       "    <tr>\n",
       "      <th>12</th>\n",
       "      <td>NaN</td>\n",
       "      <td>NA</td>\n",
       "    </tr>\n",
       "    <tr>\n",
       "      <th>93</th>\n",
       "      <td>NaN</td>\n",
       "      <td>NA</td>\n",
       "    </tr>\n",
       "    <tr>\n",
       "      <th>114</th>\n",
       "      <td>NaN</td>\n",
       "      <td>NA</td>\n",
       "    </tr>\n",
       "    <tr>\n",
       "      <th>146</th>\n",
       "      <td>NaN</td>\n",
       "      <td>NA</td>\n",
       "    </tr>\n",
       "    <tr>\n",
       "      <th>183</th>\n",
       "      <td>NaN</td>\n",
       "      <td>NA</td>\n",
       "    </tr>\n",
       "    <tr>\n",
       "      <th>240</th>\n",
       "      <td>NaN</td>\n",
       "      <td>NA</td>\n",
       "    </tr>\n",
       "    <tr>\n",
       "      <th>249</th>\n",
       "      <td>NaN</td>\n",
       "      <td>NA</td>\n",
       "    </tr>\n",
       "    <tr>\n",
       "      <th>256</th>\n",
       "      <td>NaN</td>\n",
       "      <td>NA</td>\n",
       "    </tr>\n",
       "    <tr>\n",
       "      <th>390</th>\n",
       "      <td>NaN</td>\n",
       "      <td>NA</td>\n",
       "    </tr>\n",
       "    <tr>\n",
       "      <th>437</th>\n",
       "      <td>NaN</td>\n",
       "      <td>NA</td>\n",
       "    </tr>\n",
       "    <tr>\n",
       "      <th>485</th>\n",
       "      <td>NaN</td>\n",
       "      <td>NA</td>\n",
       "    </tr>\n",
       "    <tr>\n",
       "      <th>499</th>\n",
       "      <td>NaN</td>\n",
       "      <td>NA</td>\n",
       "    </tr>\n",
       "    <tr>\n",
       "      <th>514</th>\n",
       "      <td>NaN</td>\n",
       "      <td>NA</td>\n",
       "    </tr>\n",
       "    <tr>\n",
       "      <th>580</th>\n",
       "      <td>NaN</td>\n",
       "      <td>NA</td>\n",
       "    </tr>\n",
       "    <tr>\n",
       "      <th>581</th>\n",
       "      <td>NaN</td>\n",
       "      <td>NA</td>\n",
       "    </tr>\n",
       "    <tr>\n",
       "      <th>616</th>\n",
       "      <td>NaN</td>\n",
       "      <td>NA</td>\n",
       "    </tr>\n",
       "    <tr>\n",
       "      <th>635</th>\n",
       "      <td>NaN</td>\n",
       "      <td>NA</td>\n",
       "    </tr>\n",
       "    <tr>\n",
       "      <th>642</th>\n",
       "      <td>NaN</td>\n",
       "      <td>NA</td>\n",
       "    </tr>\n",
       "    <tr>\n",
       "      <th>696</th>\n",
       "      <td>NaN</td>\n",
       "      <td>NA</td>\n",
       "    </tr>\n",
       "    <tr>\n",
       "      <th>700</th>\n",
       "      <td>NaN</td>\n",
       "      <td>NA</td>\n",
       "    </tr>\n",
       "    <tr>\n",
       "      <th>737</th>\n",
       "      <td>NaN</td>\n",
       "      <td>NA</td>\n",
       "    </tr>\n",
       "    <tr>\n",
       "      <th>772</th>\n",
       "      <td>NaN</td>\n",
       "      <td>NA</td>\n",
       "    </tr>\n",
       "    <tr>\n",
       "      <th>790</th>\n",
       "      <td>NaN</td>\n",
       "      <td>NA</td>\n",
       "    </tr>\n",
       "    <tr>\n",
       "      <th>794</th>\n",
       "      <td>NaN</td>\n",
       "      <td>NA</td>\n",
       "    </tr>\n",
       "    <tr>\n",
       "      <th>924</th>\n",
       "      <td>NaN</td>\n",
       "      <td>NA</td>\n",
       "    </tr>\n",
       "    <tr>\n",
       "      <th>933</th>\n",
       "      <td>NaN</td>\n",
       "      <td>NA</td>\n",
       "    </tr>\n",
       "    <tr>\n",
       "      <th>954</th>\n",
       "      <td>NaN</td>\n",
       "      <td>NA</td>\n",
       "    </tr>\n",
       "    <tr>\n",
       "      <th>1007</th>\n",
       "      <td>NaN</td>\n",
       "      <td>NA</td>\n",
       "    </tr>\n",
       "    <tr>\n",
       "      <th>1022</th>\n",
       "      <td>NaN</td>\n",
       "      <td>NA</td>\n",
       "    </tr>\n",
       "    <tr>\n",
       "      <th>1049</th>\n",
       "      <td>NaN</td>\n",
       "      <td>NA</td>\n",
       "    </tr>\n",
       "    <tr>\n",
       "      <th>1089</th>\n",
       "      <td>NaN</td>\n",
       "      <td>NA</td>\n",
       "    </tr>\n",
       "    <tr>\n",
       "      <th>1098</th>\n",
       "      <td>NaN</td>\n",
       "      <td>NA</td>\n",
       "    </tr>\n",
       "    <tr>\n",
       "      <th>1125</th>\n",
       "      <td>NaN</td>\n",
       "      <td>NA</td>\n",
       "    </tr>\n",
       "    <tr>\n",
       "      <th>1157</th>\n",
       "      <td>NaN</td>\n",
       "      <td>NA</td>\n",
       "    </tr>\n",
       "    <tr>\n",
       "      <th>1211</th>\n",
       "      <td>NaN</td>\n",
       "      <td>NA</td>\n",
       "    </tr>\n",
       "    <tr>\n",
       "      <th>1222</th>\n",
       "      <td>NaN</td>\n",
       "      <td>NA</td>\n",
       "    </tr>\n",
       "    <tr>\n",
       "      <th>1252</th>\n",
       "      <td>NaN</td>\n",
       "      <td>NA</td>\n",
       "    </tr>\n",
       "    <tr>\n",
       "      <th>1256</th>\n",
       "      <td>NaN</td>\n",
       "      <td>NA</td>\n",
       "    </tr>\n",
       "    <tr>\n",
       "      <th>1270</th>\n",
       "      <td>NaN</td>\n",
       "      <td>NA</td>\n",
       "    </tr>\n",
       "    <tr>\n",
       "      <th>1330</th>\n",
       "      <td>NaN</td>\n",
       "      <td>NA</td>\n",
       "    </tr>\n",
       "    <tr>\n",
       "      <th>1376</th>\n",
       "      <td>NaN</td>\n",
       "      <td>NA</td>\n",
       "    </tr>\n",
       "    <tr>\n",
       "      <th>1386</th>\n",
       "      <td>NaN</td>\n",
       "      <td>NA</td>\n",
       "    </tr>\n",
       "    <tr>\n",
       "      <th>1427</th>\n",
       "      <td>NaN</td>\n",
       "      <td>NA</td>\n",
       "    </tr>\n",
       "    <tr>\n",
       "      <th>1480</th>\n",
       "      <td>NaN</td>\n",
       "      <td>NA</td>\n",
       "    </tr>\n",
       "    <tr>\n",
       "      <th>1593</th>\n",
       "      <td>NaN</td>\n",
       "      <td>NA</td>\n",
       "    </tr>\n",
       "    <tr>\n",
       "      <th>1619</th>\n",
       "      <td>NaN</td>\n",
       "      <td>NA</td>\n",
       "    </tr>\n",
       "    <tr>\n",
       "      <th>1680</th>\n",
       "      <td>NaN</td>\n",
       "      <td>NA</td>\n",
       "    </tr>\n",
       "    <tr>\n",
       "      <th>1683</th>\n",
       "      <td>NaN</td>\n",
       "      <td>NA</td>\n",
       "    </tr>\n",
       "    <tr>\n",
       "      <th>1685</th>\n",
       "      <td>NaN</td>\n",
       "      <td>NA</td>\n",
       "    </tr>\n",
       "    <tr>\n",
       "      <th>1856</th>\n",
       "      <td>NaN</td>\n",
       "      <td>NA</td>\n",
       "    </tr>\n",
       "    <tr>\n",
       "      <th>1872</th>\n",
       "      <td>NaN</td>\n",
       "      <td>NA</td>\n",
       "    </tr>\n",
       "    <tr>\n",
       "      <th>1886</th>\n",
       "      <td>NaN</td>\n",
       "      <td>NA</td>\n",
       "    </tr>\n",
       "    <tr>\n",
       "      <th>1930</th>\n",
       "      <td>NaN</td>\n",
       "      <td>NA</td>\n",
       "    </tr>\n",
       "    <tr>\n",
       "      <th>2007</th>\n",
       "      <td>NaN</td>\n",
       "      <td>NA</td>\n",
       "    </tr>\n",
       "  </tbody>\n",
       "</table>\n",
       "</div>"
      ],
      "text/plain": [
       "     bsmt_cond bsmtfin_type_1\n",
       "12         NaN             NA\n",
       "93         NaN             NA\n",
       "114        NaN             NA\n",
       "146        NaN             NA\n",
       "183        NaN             NA\n",
       "240        NaN             NA\n",
       "249        NaN             NA\n",
       "256        NaN             NA\n",
       "390        NaN             NA\n",
       "437        NaN             NA\n",
       "485        NaN             NA\n",
       "499        NaN             NA\n",
       "514        NaN             NA\n",
       "580        NaN             NA\n",
       "581        NaN             NA\n",
       "616        NaN             NA\n",
       "635        NaN             NA\n",
       "642        NaN             NA\n",
       "696        NaN             NA\n",
       "700        NaN             NA\n",
       "737        NaN             NA\n",
       "772        NaN             NA\n",
       "790        NaN             NA\n",
       "794        NaN             NA\n",
       "924        NaN             NA\n",
       "933        NaN             NA\n",
       "954        NaN             NA\n",
       "1007       NaN             NA\n",
       "1022       NaN             NA\n",
       "1049       NaN             NA\n",
       "1089       NaN             NA\n",
       "1098       NaN             NA\n",
       "1125       NaN             NA\n",
       "1157       NaN             NA\n",
       "1211       NaN             NA\n",
       "1222       NaN             NA\n",
       "1252       NaN             NA\n",
       "1256       NaN             NA\n",
       "1270       NaN             NA\n",
       "1330       NaN             NA\n",
       "1376       NaN             NA\n",
       "1386       NaN             NA\n",
       "1427       NaN             NA\n",
       "1480       NaN             NA\n",
       "1593       NaN             NA\n",
       "1619       NaN             NA\n",
       "1680       NaN             NA\n",
       "1683       NaN             NA\n",
       "1685       NaN             NA\n",
       "1856       NaN             NA\n",
       "1872       NaN             NA\n",
       "1886       NaN             NA\n",
       "1930       NaN             NA\n",
       "2007       NaN             NA"
      ]
     },
     "execution_count": 97,
     "metadata": {},
     "output_type": "execute_result"
    }
   ],
   "source": [
    "train.loc[train['bsmt_cond'].isnull(),['bsmt_cond','bsmtfin_type_1']]"
   ]
  },
  {
   "cell_type": "markdown",
   "id": "988545ff",
   "metadata": {},
   "source": [
    "Since all nan values of bsmt_cond fall under 'NA'(no basement of bsmtfin_type_1), all nan values of bsmt_cond will be replaced as 'NA'"
   ]
  },
  {
   "cell_type": "code",
   "execution_count": 98,
   "id": "96d6f2fa",
   "metadata": {},
   "outputs": [],
   "source": [
    "train['bsmt_cond'].fillna('NA', inplace=True)"
   ]
  },
  {
   "cell_type": "code",
   "execution_count": 99,
   "id": "4543f3d8",
   "metadata": {},
   "outputs": [],
   "source": [
    "test['bsmt_cond'].fillna('NA', inplace=True)"
   ]
  },
  {
   "cell_type": "markdown",
   "id": "14d42c85",
   "metadata": {},
   "source": [
    "### bsmt_qual"
   ]
  },
  {
   "cell_type": "code",
   "execution_count": 100,
   "id": "dd770a66",
   "metadata": {
    "scrolled": true
   },
   "outputs": [
    {
     "data": {
      "text/html": [
       "<div>\n",
       "<style scoped>\n",
       "    .dataframe tbody tr th:only-of-type {\n",
       "        vertical-align: middle;\n",
       "    }\n",
       "\n",
       "    .dataframe tbody tr th {\n",
       "        vertical-align: top;\n",
       "    }\n",
       "\n",
       "    .dataframe thead th {\n",
       "        text-align: right;\n",
       "    }\n",
       "</style>\n",
       "<table border=\"1\" class=\"dataframe\">\n",
       "  <thead>\n",
       "    <tr style=\"text-align: right;\">\n",
       "      <th></th>\n",
       "      <th>bsmtfin_sf_1</th>\n",
       "      <th>bsmt_qual</th>\n",
       "    </tr>\n",
       "  </thead>\n",
       "  <tbody>\n",
       "    <tr>\n",
       "      <th>12</th>\n",
       "      <td>0.0</td>\n",
       "      <td>NaN</td>\n",
       "    </tr>\n",
       "    <tr>\n",
       "      <th>93</th>\n",
       "      <td>0.0</td>\n",
       "      <td>NaN</td>\n",
       "    </tr>\n",
       "    <tr>\n",
       "      <th>114</th>\n",
       "      <td>0.0</td>\n",
       "      <td>NaN</td>\n",
       "    </tr>\n",
       "    <tr>\n",
       "      <th>146</th>\n",
       "      <td>0.0</td>\n",
       "      <td>NaN</td>\n",
       "    </tr>\n",
       "    <tr>\n",
       "      <th>183</th>\n",
       "      <td>0.0</td>\n",
       "      <td>NaN</td>\n",
       "    </tr>\n",
       "    <tr>\n",
       "      <th>240</th>\n",
       "      <td>0.0</td>\n",
       "      <td>NaN</td>\n",
       "    </tr>\n",
       "    <tr>\n",
       "      <th>249</th>\n",
       "      <td>0.0</td>\n",
       "      <td>NaN</td>\n",
       "    </tr>\n",
       "    <tr>\n",
       "      <th>256</th>\n",
       "      <td>0.0</td>\n",
       "      <td>NaN</td>\n",
       "    </tr>\n",
       "    <tr>\n",
       "      <th>390</th>\n",
       "      <td>0.0</td>\n",
       "      <td>NaN</td>\n",
       "    </tr>\n",
       "    <tr>\n",
       "      <th>437</th>\n",
       "      <td>0.0</td>\n",
       "      <td>NaN</td>\n",
       "    </tr>\n",
       "    <tr>\n",
       "      <th>485</th>\n",
       "      <td>0.0</td>\n",
       "      <td>NaN</td>\n",
       "    </tr>\n",
       "    <tr>\n",
       "      <th>499</th>\n",
       "      <td>0.0</td>\n",
       "      <td>NaN</td>\n",
       "    </tr>\n",
       "    <tr>\n",
       "      <th>514</th>\n",
       "      <td>0.0</td>\n",
       "      <td>NaN</td>\n",
       "    </tr>\n",
       "    <tr>\n",
       "      <th>580</th>\n",
       "      <td>0.0</td>\n",
       "      <td>NaN</td>\n",
       "    </tr>\n",
       "    <tr>\n",
       "      <th>581</th>\n",
       "      <td>0.0</td>\n",
       "      <td>NaN</td>\n",
       "    </tr>\n",
       "    <tr>\n",
       "      <th>616</th>\n",
       "      <td>0.0</td>\n",
       "      <td>NaN</td>\n",
       "    </tr>\n",
       "    <tr>\n",
       "      <th>635</th>\n",
       "      <td>0.0</td>\n",
       "      <td>NaN</td>\n",
       "    </tr>\n",
       "    <tr>\n",
       "      <th>642</th>\n",
       "      <td>0.0</td>\n",
       "      <td>NaN</td>\n",
       "    </tr>\n",
       "    <tr>\n",
       "      <th>696</th>\n",
       "      <td>0.0</td>\n",
       "      <td>NaN</td>\n",
       "    </tr>\n",
       "    <tr>\n",
       "      <th>700</th>\n",
       "      <td>0.0</td>\n",
       "      <td>NaN</td>\n",
       "    </tr>\n",
       "    <tr>\n",
       "      <th>737</th>\n",
       "      <td>0.0</td>\n",
       "      <td>NaN</td>\n",
       "    </tr>\n",
       "    <tr>\n",
       "      <th>772</th>\n",
       "      <td>0.0</td>\n",
       "      <td>NaN</td>\n",
       "    </tr>\n",
       "    <tr>\n",
       "      <th>790</th>\n",
       "      <td>0.0</td>\n",
       "      <td>NaN</td>\n",
       "    </tr>\n",
       "    <tr>\n",
       "      <th>794</th>\n",
       "      <td>0.0</td>\n",
       "      <td>NaN</td>\n",
       "    </tr>\n",
       "    <tr>\n",
       "      <th>924</th>\n",
       "      <td>0.0</td>\n",
       "      <td>NaN</td>\n",
       "    </tr>\n",
       "    <tr>\n",
       "      <th>933</th>\n",
       "      <td>0.0</td>\n",
       "      <td>NaN</td>\n",
       "    </tr>\n",
       "    <tr>\n",
       "      <th>954</th>\n",
       "      <td>0.0</td>\n",
       "      <td>NaN</td>\n",
       "    </tr>\n",
       "    <tr>\n",
       "      <th>1007</th>\n",
       "      <td>0.0</td>\n",
       "      <td>NaN</td>\n",
       "    </tr>\n",
       "    <tr>\n",
       "      <th>1022</th>\n",
       "      <td>0.0</td>\n",
       "      <td>NaN</td>\n",
       "    </tr>\n",
       "    <tr>\n",
       "      <th>1049</th>\n",
       "      <td>0.0</td>\n",
       "      <td>NaN</td>\n",
       "    </tr>\n",
       "    <tr>\n",
       "      <th>1089</th>\n",
       "      <td>0.0</td>\n",
       "      <td>NaN</td>\n",
       "    </tr>\n",
       "    <tr>\n",
       "      <th>1098</th>\n",
       "      <td>0.0</td>\n",
       "      <td>NaN</td>\n",
       "    </tr>\n",
       "    <tr>\n",
       "      <th>1125</th>\n",
       "      <td>0.0</td>\n",
       "      <td>NaN</td>\n",
       "    </tr>\n",
       "    <tr>\n",
       "      <th>1157</th>\n",
       "      <td>0.0</td>\n",
       "      <td>NaN</td>\n",
       "    </tr>\n",
       "    <tr>\n",
       "      <th>1211</th>\n",
       "      <td>0.0</td>\n",
       "      <td>NaN</td>\n",
       "    </tr>\n",
       "    <tr>\n",
       "      <th>1222</th>\n",
       "      <td>0.0</td>\n",
       "      <td>NaN</td>\n",
       "    </tr>\n",
       "    <tr>\n",
       "      <th>1252</th>\n",
       "      <td>0.0</td>\n",
       "      <td>NaN</td>\n",
       "    </tr>\n",
       "    <tr>\n",
       "      <th>1256</th>\n",
       "      <td>0.0</td>\n",
       "      <td>NaN</td>\n",
       "    </tr>\n",
       "    <tr>\n",
       "      <th>1270</th>\n",
       "      <td>0.0</td>\n",
       "      <td>NaN</td>\n",
       "    </tr>\n",
       "    <tr>\n",
       "      <th>1330</th>\n",
       "      <td>0.0</td>\n",
       "      <td>NaN</td>\n",
       "    </tr>\n",
       "    <tr>\n",
       "      <th>1376</th>\n",
       "      <td>0.0</td>\n",
       "      <td>NaN</td>\n",
       "    </tr>\n",
       "    <tr>\n",
       "      <th>1386</th>\n",
       "      <td>0.0</td>\n",
       "      <td>NaN</td>\n",
       "    </tr>\n",
       "    <tr>\n",
       "      <th>1427</th>\n",
       "      <td>0.0</td>\n",
       "      <td>NaN</td>\n",
       "    </tr>\n",
       "    <tr>\n",
       "      <th>1480</th>\n",
       "      <td>0.0</td>\n",
       "      <td>NaN</td>\n",
       "    </tr>\n",
       "    <tr>\n",
       "      <th>1593</th>\n",
       "      <td>0.0</td>\n",
       "      <td>NaN</td>\n",
       "    </tr>\n",
       "    <tr>\n",
       "      <th>1619</th>\n",
       "      <td>0.0</td>\n",
       "      <td>NaN</td>\n",
       "    </tr>\n",
       "    <tr>\n",
       "      <th>1680</th>\n",
       "      <td>0.0</td>\n",
       "      <td>NaN</td>\n",
       "    </tr>\n",
       "    <tr>\n",
       "      <th>1683</th>\n",
       "      <td>0.0</td>\n",
       "      <td>NaN</td>\n",
       "    </tr>\n",
       "    <tr>\n",
       "      <th>1685</th>\n",
       "      <td>0.0</td>\n",
       "      <td>NaN</td>\n",
       "    </tr>\n",
       "    <tr>\n",
       "      <th>1856</th>\n",
       "      <td>0.0</td>\n",
       "      <td>NaN</td>\n",
       "    </tr>\n",
       "    <tr>\n",
       "      <th>1872</th>\n",
       "      <td>0.0</td>\n",
       "      <td>NaN</td>\n",
       "    </tr>\n",
       "    <tr>\n",
       "      <th>1886</th>\n",
       "      <td>0.0</td>\n",
       "      <td>NaN</td>\n",
       "    </tr>\n",
       "    <tr>\n",
       "      <th>1930</th>\n",
       "      <td>0.0</td>\n",
       "      <td>NaN</td>\n",
       "    </tr>\n",
       "    <tr>\n",
       "      <th>2007</th>\n",
       "      <td>0.0</td>\n",
       "      <td>NaN</td>\n",
       "    </tr>\n",
       "  </tbody>\n",
       "</table>\n",
       "</div>"
      ],
      "text/plain": [
       "      bsmtfin_sf_1 bsmt_qual\n",
       "12             0.0       NaN\n",
       "93             0.0       NaN\n",
       "114            0.0       NaN\n",
       "146            0.0       NaN\n",
       "183            0.0       NaN\n",
       "240            0.0       NaN\n",
       "249            0.0       NaN\n",
       "256            0.0       NaN\n",
       "390            0.0       NaN\n",
       "437            0.0       NaN\n",
       "485            0.0       NaN\n",
       "499            0.0       NaN\n",
       "514            0.0       NaN\n",
       "580            0.0       NaN\n",
       "581            0.0       NaN\n",
       "616            0.0       NaN\n",
       "635            0.0       NaN\n",
       "642            0.0       NaN\n",
       "696            0.0       NaN\n",
       "700            0.0       NaN\n",
       "737            0.0       NaN\n",
       "772            0.0       NaN\n",
       "790            0.0       NaN\n",
       "794            0.0       NaN\n",
       "924            0.0       NaN\n",
       "933            0.0       NaN\n",
       "954            0.0       NaN\n",
       "1007           0.0       NaN\n",
       "1022           0.0       NaN\n",
       "1049           0.0       NaN\n",
       "1089           0.0       NaN\n",
       "1098           0.0       NaN\n",
       "1125           0.0       NaN\n",
       "1157           0.0       NaN\n",
       "1211           0.0       NaN\n",
       "1222           0.0       NaN\n",
       "1252           0.0       NaN\n",
       "1256           0.0       NaN\n",
       "1270           0.0       NaN\n",
       "1330           0.0       NaN\n",
       "1376           0.0       NaN\n",
       "1386           0.0       NaN\n",
       "1427           0.0       NaN\n",
       "1480           0.0       NaN\n",
       "1593           0.0       NaN\n",
       "1619           0.0       NaN\n",
       "1680           0.0       NaN\n",
       "1683           0.0       NaN\n",
       "1685           0.0       NaN\n",
       "1856           0.0       NaN\n",
       "1872           0.0       NaN\n",
       "1886           0.0       NaN\n",
       "1930           0.0       NaN\n",
       "2007           0.0       NaN"
      ]
     },
     "execution_count": 100,
     "metadata": {},
     "output_type": "execute_result"
    }
   ],
   "source": [
    "train.loc[train['bsmt_qual'].isnull(),['bsmtfin_sf_1','bsmt_qual']]"
   ]
  },
  {
   "cell_type": "markdown",
   "id": "62927041",
   "metadata": {},
   "source": [
    "since all values of bsmtfin_sf_1 is 0 for nan values of bsmt_qual, nan values will be replaced by NA(no basement)"
   ]
  },
  {
   "cell_type": "code",
   "execution_count": 101,
   "id": "b04df990",
   "metadata": {},
   "outputs": [],
   "source": [
    "train['bsmt_qual'].fillna('NA', inplace=True)"
   ]
  },
  {
   "cell_type": "code",
   "execution_count": 102,
   "id": "a06ad1ac",
   "metadata": {},
   "outputs": [],
   "source": [
    "test['bsmt_qual'].fillna('NA', inplace=True)"
   ]
  },
  {
   "cell_type": "markdown",
   "id": "c9c885eb",
   "metadata": {},
   "source": [
    "### mas_vnr_type, mas_vnr_area"
   ]
  },
  {
   "cell_type": "markdown",
   "id": "743f4716",
   "metadata": {},
   "source": [
    "mas_vnr_type is related to mas_vnr_area"
   ]
  },
  {
   "cell_type": "code",
   "execution_count": 103,
   "id": "012b9272",
   "metadata": {
    "scrolled": true
   },
   "outputs": [
    {
     "data": {
      "text/html": [
       "<div>\n",
       "<style scoped>\n",
       "    .dataframe tbody tr th:only-of-type {\n",
       "        vertical-align: middle;\n",
       "    }\n",
       "\n",
       "    .dataframe tbody tr th {\n",
       "        vertical-align: top;\n",
       "    }\n",
       "\n",
       "    .dataframe thead th {\n",
       "        text-align: right;\n",
       "    }\n",
       "</style>\n",
       "<table border=\"1\" class=\"dataframe\">\n",
       "  <thead>\n",
       "    <tr style=\"text-align: right;\">\n",
       "      <th></th>\n",
       "      <th>mas_vnr_type</th>\n",
       "      <th>mas_vnr_area</th>\n",
       "    </tr>\n",
       "  </thead>\n",
       "  <tbody>\n",
       "    <tr>\n",
       "      <th>22</th>\n",
       "      <td>NaN</td>\n",
       "      <td>NaN</td>\n",
       "    </tr>\n",
       "    <tr>\n",
       "      <th>41</th>\n",
       "      <td>NaN</td>\n",
       "      <td>NaN</td>\n",
       "    </tr>\n",
       "    <tr>\n",
       "      <th>86</th>\n",
       "      <td>NaN</td>\n",
       "      <td>NaN</td>\n",
       "    </tr>\n",
       "    <tr>\n",
       "      <th>212</th>\n",
       "      <td>NaN</td>\n",
       "      <td>NaN</td>\n",
       "    </tr>\n",
       "    <tr>\n",
       "      <th>276</th>\n",
       "      <td>NaN</td>\n",
       "      <td>NaN</td>\n",
       "    </tr>\n",
       "    <tr>\n",
       "      <th>338</th>\n",
       "      <td>NaN</td>\n",
       "      <td>NaN</td>\n",
       "    </tr>\n",
       "    <tr>\n",
       "      <th>431</th>\n",
       "      <td>NaN</td>\n",
       "      <td>NaN</td>\n",
       "    </tr>\n",
       "    <tr>\n",
       "      <th>451</th>\n",
       "      <td>NaN</td>\n",
       "      <td>NaN</td>\n",
       "    </tr>\n",
       "    <tr>\n",
       "      <th>591</th>\n",
       "      <td>NaN</td>\n",
       "      <td>NaN</td>\n",
       "    </tr>\n",
       "    <tr>\n",
       "      <th>844</th>\n",
       "      <td>NaN</td>\n",
       "      <td>NaN</td>\n",
       "    </tr>\n",
       "    <tr>\n",
       "      <th>913</th>\n",
       "      <td>NaN</td>\n",
       "      <td>NaN</td>\n",
       "    </tr>\n",
       "    <tr>\n",
       "      <th>939</th>\n",
       "      <td>NaN</td>\n",
       "      <td>NaN</td>\n",
       "    </tr>\n",
       "    <tr>\n",
       "      <th>1025</th>\n",
       "      <td>NaN</td>\n",
       "      <td>NaN</td>\n",
       "    </tr>\n",
       "    <tr>\n",
       "      <th>1244</th>\n",
       "      <td>NaN</td>\n",
       "      <td>NaN</td>\n",
       "    </tr>\n",
       "    <tr>\n",
       "      <th>1306</th>\n",
       "      <td>NaN</td>\n",
       "      <td>NaN</td>\n",
       "    </tr>\n",
       "    <tr>\n",
       "      <th>1429</th>\n",
       "      <td>NaN</td>\n",
       "      <td>NaN</td>\n",
       "    </tr>\n",
       "    <tr>\n",
       "      <th>1433</th>\n",
       "      <td>NaN</td>\n",
       "      <td>NaN</td>\n",
       "    </tr>\n",
       "    <tr>\n",
       "      <th>1605</th>\n",
       "      <td>NaN</td>\n",
       "      <td>NaN</td>\n",
       "    </tr>\n",
       "    <tr>\n",
       "      <th>1812</th>\n",
       "      <td>NaN</td>\n",
       "      <td>NaN</td>\n",
       "    </tr>\n",
       "    <tr>\n",
       "      <th>1817</th>\n",
       "      <td>NaN</td>\n",
       "      <td>NaN</td>\n",
       "    </tr>\n",
       "    <tr>\n",
       "      <th>1938</th>\n",
       "      <td>NaN</td>\n",
       "      <td>NaN</td>\n",
       "    </tr>\n",
       "  </tbody>\n",
       "</table>\n",
       "</div>"
      ],
      "text/plain": [
       "     mas_vnr_type  mas_vnr_area\n",
       "22            NaN           NaN\n",
       "41            NaN           NaN\n",
       "86            NaN           NaN\n",
       "212           NaN           NaN\n",
       "276           NaN           NaN\n",
       "338           NaN           NaN\n",
       "431           NaN           NaN\n",
       "451           NaN           NaN\n",
       "591           NaN           NaN\n",
       "844           NaN           NaN\n",
       "913           NaN           NaN\n",
       "939           NaN           NaN\n",
       "1025          NaN           NaN\n",
       "1244          NaN           NaN\n",
       "1306          NaN           NaN\n",
       "1429          NaN           NaN\n",
       "1433          NaN           NaN\n",
       "1605          NaN           NaN\n",
       "1812          NaN           NaN\n",
       "1817          NaN           NaN\n",
       "1938          NaN           NaN"
      ]
     },
     "execution_count": 103,
     "metadata": {},
     "output_type": "execute_result"
    }
   ],
   "source": [
    "train.loc[train['mas_vnr_type'].isnull(),['mas_vnr_type','mas_vnr_area']]"
   ]
  },
  {
   "cell_type": "markdown",
   "id": "20be6ffe",
   "metadata": {},
   "source": [
    "since both mas_vnr_type and mas_vnr_area has null values in the same row, and there are no other indicators for mas features"
   ]
  },
  {
   "cell_type": "code",
   "execution_count": 104,
   "id": "bf02a11c",
   "metadata": {},
   "outputs": [],
   "source": [
    "train['mas_vnr_type'].fillna('None', inplace=True)\n",
    "train['mas_vnr_area'].fillna(0, inplace=True)"
   ]
  },
  {
   "cell_type": "code",
   "execution_count": 105,
   "id": "dc90030d",
   "metadata": {},
   "outputs": [],
   "source": [
    "test['mas_vnr_type'].fillna('None', inplace=True)\n",
    "test['mas_vnr_area'].fillna(0, inplace=True)"
   ]
  },
  {
   "cell_type": "markdown",
   "id": "ad22e2ac",
   "metadata": {},
   "source": [
    "### bsmt_full_bath"
   ]
  },
  {
   "cell_type": "code",
   "execution_count": 106,
   "id": "a20068d8",
   "metadata": {},
   "outputs": [
    {
     "data": {
      "text/html": [
       "<div>\n",
       "<style scoped>\n",
       "    .dataframe tbody tr th:only-of-type {\n",
       "        vertical-align: middle;\n",
       "    }\n",
       "\n",
       "    .dataframe tbody tr th {\n",
       "        vertical-align: top;\n",
       "    }\n",
       "\n",
       "    .dataframe thead th {\n",
       "        text-align: right;\n",
       "    }\n",
       "</style>\n",
       "<table border=\"1\" class=\"dataframe\">\n",
       "  <thead>\n",
       "    <tr style=\"text-align: right;\">\n",
       "      <th></th>\n",
       "      <th>bsmt_full_bath</th>\n",
       "      <th>bsmt_half_bath</th>\n",
       "      <th>bsmt_qual</th>\n",
       "    </tr>\n",
       "  </thead>\n",
       "  <tbody>\n",
       "    <tr>\n",
       "      <th>616</th>\n",
       "      <td>NaN</td>\n",
       "      <td>NaN</td>\n",
       "      <td>NA</td>\n",
       "    </tr>\n",
       "  </tbody>\n",
       "</table>\n",
       "</div>"
      ],
      "text/plain": [
       "     bsmt_full_bath  bsmt_half_bath bsmt_qual\n",
       "616             NaN             NaN        NA"
      ]
     },
     "execution_count": 106,
     "metadata": {},
     "output_type": "execute_result"
    }
   ],
   "source": [
    "train.loc[(train['bsmt_full_bath'].isnull())& (train['bsmt_half_bath'].isnull()),['bsmt_full_bath', 'bsmt_half_bath', 'bsmt_qual']]"
   ]
  },
  {
   "cell_type": "markdown",
   "id": "2682983b",
   "metadata": {},
   "source": [
    "since the nan values of bsmt_half_bath and bsmt_full_bath falls under no basement. nan values will be changed to 0"
   ]
  },
  {
   "cell_type": "code",
   "execution_count": 107,
   "id": "ceafba14",
   "metadata": {},
   "outputs": [],
   "source": [
    "train['bsmt_full_bath'].fillna(0,inplace=True)"
   ]
  },
  {
   "cell_type": "code",
   "execution_count": 108,
   "id": "f499ac90",
   "metadata": {},
   "outputs": [],
   "source": [
    "train['bsmt_half_bath'].fillna(0,inplace=True)"
   ]
  },
  {
   "cell_type": "code",
   "execution_count": 109,
   "id": "423be5a4",
   "metadata": {
    "scrolled": true
   },
   "outputs": [
    {
     "data": {
      "text/plain": [
       "0"
      ]
     },
     "execution_count": 109,
     "metadata": {},
     "output_type": "execute_result"
    }
   ],
   "source": [
    "train.isnull().sum().sum()"
   ]
  },
  {
   "cell_type": "markdown",
   "id": "b07f4aa5",
   "metadata": {},
   "source": [
    "### check for test"
   ]
  },
  {
   "cell_type": "markdown",
   "id": "c6674d31",
   "metadata": {},
   "source": [
    "check for any null values left in test"
   ]
  },
  {
   "cell_type": "code",
   "execution_count": 110,
   "id": "1b7ea858",
   "metadata": {
    "scrolled": false
   },
   "outputs": [
    {
     "data": {
      "text/plain": [
       "1"
      ]
     },
     "execution_count": 110,
     "metadata": {},
     "output_type": "execute_result"
    }
   ],
   "source": [
    "test.isnull().sum().sum()"
   ]
  },
  {
   "cell_type": "code",
   "execution_count": 111,
   "id": "9a6df263",
   "metadata": {},
   "outputs": [
    {
     "data": {
      "text/plain": [
       "electrical    1\n",
       "dtype: int64"
      ]
     },
     "execution_count": 111,
     "metadata": {},
     "output_type": "execute_result"
    }
   ],
   "source": [
    "test[test.columns[test.isnull().any()]].isnull().sum().sort_values(ascending=False)"
   ]
  },
  {
   "cell_type": "code",
   "execution_count": 112,
   "id": "ed22a0e3",
   "metadata": {
    "scrolled": true
   },
   "outputs": [
    {
     "data": {
      "text/html": [
       "<div>\n",
       "<style scoped>\n",
       "    .dataframe tbody tr th:only-of-type {\n",
       "        vertical-align: middle;\n",
       "    }\n",
       "\n",
       "    .dataframe tbody tr th {\n",
       "        vertical-align: top;\n",
       "    }\n",
       "\n",
       "    .dataframe thead th {\n",
       "        text-align: right;\n",
       "    }\n",
       "</style>\n",
       "<table border=\"1\" class=\"dataframe\">\n",
       "  <thead>\n",
       "    <tr style=\"text-align: right;\">\n",
       "      <th></th>\n",
       "      <th>electrical</th>\n",
       "      <th>utilities</th>\n",
       "    </tr>\n",
       "  </thead>\n",
       "  <tbody>\n",
       "    <tr>\n",
       "      <th>635</th>\n",
       "      <td>NaN</td>\n",
       "      <td>AllPub</td>\n",
       "    </tr>\n",
       "  </tbody>\n",
       "</table>\n",
       "</div>"
      ],
      "text/plain": [
       "    electrical utilities\n",
       "635        NaN    AllPub"
      ]
     },
     "execution_count": 112,
     "metadata": {},
     "output_type": "execute_result"
    }
   ],
   "source": [
    "test.loc[test['electrical'].isnull(),['electrical','utilities']]"
   ]
  },
  {
   "cell_type": "markdown",
   "id": "a725f910",
   "metadata": {},
   "source": [
    "Since it is supposed to have all utilities, reference will be made from other houses with AllPub for electrical data imputing"
   ]
  },
  {
   "cell_type": "code",
   "execution_count": 113,
   "id": "f7f1c43d",
   "metadata": {
    "scrolled": true
   },
   "outputs": [
    {
     "data": {
      "text/plain": [
       "array(['SBrkr', 'FuseF', 'FuseA', 'FuseP', 'Mix'], dtype=object)"
      ]
     },
     "execution_count": 113,
     "metadata": {},
     "output_type": "execute_result"
    }
   ],
   "source": [
    "train.loc[train['utilities']=='AllPub','electrical'].unique()"
   ]
  },
  {
   "cell_type": "code",
   "execution_count": 114,
   "id": "4cc35b38",
   "metadata": {
    "scrolled": false
   },
   "outputs": [
    {
     "data": {
      "text/plain": [
       "0    SBrkr\n",
       "dtype: object"
      ]
     },
     "execution_count": 114,
     "metadata": {},
     "output_type": "execute_result"
    }
   ],
   "source": [
    "train.loc[train['utilities']=='AllPub','electrical'].mode()"
   ]
  },
  {
   "cell_type": "markdown",
   "id": "5cf61e24",
   "metadata": {},
   "source": [
    "since there are 5 different type of unique values for when there is AllPub, i will impute it using the mode value"
   ]
  },
  {
   "cell_type": "code",
   "execution_count": 115,
   "id": "99ef17af",
   "metadata": {},
   "outputs": [],
   "source": [
    "test.loc[test['electrical'].isnull(),'electrical'] = 'SBrkr'"
   ]
  },
  {
   "cell_type": "code",
   "execution_count": 116,
   "id": "c1f01ce7",
   "metadata": {},
   "outputs": [
    {
     "data": {
      "text/plain": [
       "'SBrkr'"
      ]
     },
     "execution_count": 116,
     "metadata": {},
     "output_type": "execute_result"
    }
   ],
   "source": [
    "test.loc[635,'electrical']"
   ]
  },
  {
   "cell_type": "code",
   "execution_count": 117,
   "id": "1443b5ea",
   "metadata": {},
   "outputs": [
    {
     "data": {
      "text/plain": [
       "0"
      ]
     },
     "execution_count": 117,
     "metadata": {},
     "output_type": "execute_result"
    }
   ],
   "source": [
    "test.isnull().sum().sum()"
   ]
  },
  {
   "cell_type": "code",
   "execution_count": 124,
   "id": "d50c2242",
   "metadata": {},
   "outputs": [
    {
     "data": {
      "text/plain": [
       "0"
      ]
     },
     "execution_count": 124,
     "metadata": {},
     "output_type": "execute_result"
    }
   ],
   "source": [
    "train.isnull().sum().sum()"
   ]
  },
  {
   "cell_type": "markdown",
   "id": "c5b515f9",
   "metadata": {},
   "source": [
    "## converting cleaned test and train dataset to csv file"
   ]
  },
  {
   "cell_type": "code",
   "execution_count": 121,
   "id": "28e1d601",
   "metadata": {},
   "outputs": [],
   "source": [
    "train.to_csv('./datasets/cleaned_train.csv', na_rep='NA',index=False)"
   ]
  },
  {
   "cell_type": "code",
   "execution_count": 119,
   "id": "a815c061",
   "metadata": {},
   "outputs": [],
   "source": [
    "# test.to_csv('./datasets/cleaned_test.csv',index=False)"
   ]
  },
  {
   "cell_type": "code",
   "execution_count": 126,
   "id": "8668c8a5",
   "metadata": {},
   "outputs": [],
   "source": [
    "test.to_csv('./datasets/cleaned_test2.csv',na_rep='NA',index=False)"
   ]
  }
 ],
 "metadata": {
  "kernelspec": {
   "display_name": "Python 3",
   "language": "python",
   "name": "python3"
  },
  "language_info": {
   "codemirror_mode": {
    "name": "ipython",
    "version": 3
   },
   "file_extension": ".py",
   "mimetype": "text/x-python",
   "name": "python",
   "nbconvert_exporter": "python",
   "pygments_lexer": "ipython3",
   "version": "3.8.8"
  },
  "toc": {
   "base_numbering": 1,
   "nav_menu": {
    "height": "12.5px",
    "width": "160px"
   },
   "number_sections": true,
   "sideBar": true,
   "skip_h1_title": false,
   "title_cell": "Table of Contents",
   "title_sidebar": "Contents",
   "toc_cell": false,
   "toc_position": {
    "height": "calc(100% - 180px)",
    "left": "10px",
    "top": "150px",
    "width": "165px"
   },
   "toc_section_display": true,
   "toc_window_display": true
  }
 },
 "nbformat": 4,
 "nbformat_minor": 5
}
